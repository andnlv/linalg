{
 "cells": [
  {
   "cell_type": "markdown",
   "metadata": {},
   "source": [
    "<div style=\"float: right\">\n",
    "    **Школа Анализа Данных** — https://yandexdataschool.ru\n",
    "\n",
    "    <div style=\"margin-top: 20px\">\n",
    "        <img src=\"https://yastatic.net/yandex-shad2-www/_/PrcFTNsjcxFOmIVCu7Vzrm4sZFM.svg\" width=\"300px\">\n",
    "    </div>\n",
    "</div>"
   ]
  },
  {
   "cell_type": "markdown",
   "metadata": {
    "deletable": false,
    "editable": false,
    "nbgrader": {
     "checksum": "157067aa4fa50d6fe0cd8522cc3e6f6f",
     "grade": false,
     "grade_id": "cell-e277383e5f33df0d",
     "locked": true,
     "schema_version": 1,
     "solution": false
    }
   },
   "source": [
    "# Лабораторная работа 1"
   ]
  },
  {
   "cell_type": "markdown",
   "metadata": {
    "deletable": false,
    "editable": false,
    "nbgrader": {
     "checksum": "31910e3cbd24ea775d5b808ba4e879b0",
     "grade": false,
     "grade_id": "cell-f91a0b1caae93ec9",
     "locked": true,
     "schema_version": 1,
     "solution": false
    }
   },
   "source": [
    "Не забываем загрузить библиотеки:"
   ]
  },
  {
   "cell_type": "code",
   "execution_count": 1,
   "metadata": {
    "collapsed": true
   },
   "outputs": [],
   "source": [
    "# Библиотека для работы с матрицами\n",
    "import numpy as np \n",
    "\n",
    "# Алгоритмы линейной алгебры\n",
    "import scipy.linalg as sla\n",
    "\n",
    "# Библиотека для работы с разреженными матрицами\n",
    "import scipy.sparse as sps\n",
    "\n",
    "# Алгоритмы линейной алгебры для разреженных матриц\n",
    "import scipy.sparse.linalg as spla\n",
    "\n",
    "# Графическая библиотека\n",
    "import matplotlib.pyplot as plt\n",
    "\n",
    "# Библиотека для измерения времени\n",
    "import timeit\n",
    "\n",
    "# Позволяет отрисовывать графики и изображения прямо в ноутбуке, а не в отдельном окне. Жизненно важная вещь!\n",
    "%matplotlib inline"
   ]
  },
  {
   "cell_type": "markdown",
   "metadata": {
    "deletable": false,
    "editable": false,
    "nbgrader": {
     "checksum": "d212709cdf98e4a3514b056fabaf8540",
     "grade": false,
     "grade_id": "cell-316a881b1f62686d",
     "locked": true,
     "schema_version": 1,
     "solution": false
    }
   },
   "source": [
    "## Часть 1. Особенности LU-разложения\n",
    "\n",
    "С точки зрения математики матричные разложения являются точными: произведение сомножителей всегда равняется исходной матрицы $A$. К сожалению, на практике этом часто мешает вычислительная погрешность. \n",
    "\n",
    "Для $LU$ разложения l2-норма ошибки ошибки $||\\delta A|| = ||A - LU||$ удовлетворяет следующей оценке:\n",
    "\n",
    "$$||\\delta A|| \\leqslant ||L|| \\cdot ||U|| \\cdot O(\\varepsilon_{machine})$$\n",
    "\n",
    "А нормы $L$ и $U$ могут быть совсем нехорошими."
   ]
  },
  {
   "cell_type": "markdown",
   "metadata": {
    "deletable": false,
    "editable": false,
    "nbgrader": {
     "checksum": "47b5e09f943db4037603ba13e4457dd8",
     "grade": false,
     "grade_id": "cell-93e7463ac9114ac9",
     "locked": true,
     "schema_version": 1,
     "solution": false
    }
   },
   "source": [
    "**Задание 1.1 (1 балл)** Рассмотрим следующее LU-разложение:\n",
    "\n",
    "$$\\begin{pmatrix}\n",
    "10^{-20} & 1\\\\\n",
    "1 & 1\n",
    "\\end{pmatrix} = \\begin{pmatrix}\n",
    "1 & 0\\\\\n",
    "10^{20} & 1\n",
    "\\end{pmatrix}\\cdot\\begin{pmatrix}\n",
    "10^{-20} & 1\\\\\n",
    "0 & 1 - 10^{20}\n",
    "\\end{pmatrix}$$\n",
    "\n",
    "Перемножьте полученные матрицы $L$ и $U$. А теперь перемножьте такие же матрицы, только после всех единиц поставьте десятичные точки. Изменился ли ответ? Как вам кажется, почему?"
   ]
  },
  {
   "cell_type": "code",
   "execution_count": 2,
   "metadata": {
    "deletable": false,
    "nbgrader": {
     "checksum": "7c36024bdebab937b73dd1def03fc6a9",
     "grade": true,
     "grade_id": "cell-9f8ed3b1ca05924b",
     "locked": false,
     "points": 1,
     "schema_version": 1,
     "solution": true
    }
   },
   "outputs": [
    {
     "name": "stdout",
     "output_type": "stream",
     "text": [
      "Произведение целочисленных матриц:\n",
      "[[1e-20 1]\n",
      " [1.0 1]]\n",
      "\n",
      "Произведение матриц с дробным типом:\n",
      "[[  1.00000000e-20   1.00000000e+00]\n",
      " [  1.00000000e+00   0.00000000e+00]]\n",
      "\n"
     ]
    }
   ],
   "source": [
    "# YOUR CODE HERE\n",
    "L_int = np.array([[1, 0],\n",
    "             [int(1e20), 1]])\n",
    "U_int = np.array([[1e-20, 1],\n",
    "             [0, 1 - int(1e20)]])\n",
    "\n",
    "L_float = np.array(L_int, dtype = float)\n",
    "U_float = np.array(U_int, dtype = float)\n",
    "\n",
    "print('Произведение целочисленных матриц:')\n",
    "print(L_int.dot(U_int), end='\\n\\n')\n",
    "print('Произведение матриц с дробным типом:')\n",
    "print(L_float.dot(U_float), end='\\n\\n')"
   ]
  },
  {
   "cell_type": "markdown",
   "metadata": {},
   "source": [
    "Результат произведения целочисленных матриц:\n",
    "$$\\begin{pmatrix}\n",
    "10^{-20} & 1\\\\\n",
    "1 & 1\n",
    "\\end{pmatrix} $$\n",
    "Результат произведения дробных матриц:\n",
    "$$\\begin{pmatrix}\n",
    "10^{-20} & 1\\\\\n",
    "1 & 0\n",
    "\\end{pmatrix}$$\n",
    "Как видно, результат произведение целочисленных матриц совпадает с математическими расчётами, \n",
    "      в то время как результат произведения дробных матриц отличается от ожидания. Это связано с тем, \n",
    "      что целые числа хранятся точно, а числа с плавающей точкой нет: $1 - 10^{20}$ и $-10^{20}$, хранимые как float - одно и тоже для компьютера."
   ]
  },
  {
   "cell_type": "markdown",
   "metadata": {
    "deletable": false,
    "editable": false,
    "nbgrader": {
     "checksum": "4b2d60c5492b0a8ca5f742a95304499f",
     "grade": false,
     "grade_id": "cell-c974d99ae2a01563",
     "locked": true,
     "schema_version": 1,
     "solution": false
    }
   },
   "source": [
    "**Выход: LU-разложение с выбором главного элемента (по столбцу)**\n",
    "\n",
    "Каждый раз ищем максимум в столбце и переставляем соответствующую строку наверх.\n",
    "\n",
    "$$\\begin{pmatrix}\n",
    "b_{11} & \\dots & b_{1i} & b_{1,i+1} & \\dots & b_{1n}\\\\\n",
    " & \\ddots & \\vdots & \\vdots & & \\vdots\\\\\n",
    " & & \\color{blue}{b_{ii}} & \\color{blue}{b_{i,i+1}} & \\dots & \\color{blue}{b_{in}} \\\\\n",
    " & & b_{i+1,i} & b_{i+1,i+1} & \\dots & b_{i+1,n}\\\\\n",
    " & & \\vdots & \\vdots &  & \\vdots \\\\\n",
    " & & \\color{green}{b_{ji}} & \\color{green}{b_{j,i+1}} & \\dots & \\color{green}{b_{jn}} \\\\\n",
    " & & \\vdots & \\vdots & & \\vdots\\\\\n",
    "\\end{pmatrix}\\longrightarrow\n",
    "\\begin{pmatrix}\n",
    "b_{11} & \\dots & b_{1i} & b_{1,i+1} & \\dots & b_{1n}\\\\\n",
    " & \\ddots & \\vdots & \\vdots & & \\vdots\\\\\n",
    " & & \\color{green}{b_{ji}} & \\color{green}{b_{j,i+1}} & \\dots & \\color{green}{b_{jn}} \\\\\n",
    " & & b_{i+1,i} & b_{i+1,i+1} & \\dots & b_{i+1,n}\\\\\n",
    " & & \\vdots & \\vdots &  & \\vdots \\\\\n",
    " & & \\color{blue}{b_{ii}} & \\color{blue}{b_{i,i+1}} & \\dots & \\color{blue}{b_{in}} \\\\\n",
    " & & \\vdots & \\vdots & & \\vdots\\\\\n",
    "\\end{pmatrix}\\longrightarrow$$\n",
    "$$\\longrightarrow\\begin{pmatrix}\n",
    "b_{11} & \\dots & b_{1i} & b_{1,i+1} & \\dots & b_{1n}\\\\\n",
    " & \\ddots & \\vdots & \\vdots & & \\vdots\\\\\n",
    " & & \\color{green}{b_{ji}} & \\color{green}{b_{j,i+1}} & \\dots & \\color{green}{b_{jn}} \\\\\n",
    " & & 0 & b'_{i+1,i+1} & \\dots & b'_{i+1,n}\\\\\n",
    " & & \\vdots & \\vdots &  & \\vdots \\\\\n",
    " & & 0 & b'_{i,i+1} & \\dots & b'_{in} \\\\\n",
    " & & \\vdots & \\vdots & & \\vdots\n",
    "\\end{pmatrix}$$\n",
    "\n",
    "Надо сказать, что примерно так вы все и решали системы на первом курсе университета! Именно наибольший, а не первый ненулевой элемент столбца берётся потому, что чем больше число - тем меньшие погрешности потенциально вносит деление на него.\n",
    "\n",
    "Что при этом происходит? Перестановка строк матрицы равносильна умножению её слева на матрицу соответствующей перестановки. Таким образом, мы получаем равенство\n",
    "\n",
    "$$L_nP_nL_{n-1}P_{n-1}\\ldots L_2P_2L_1P_1 A = U\\qquad\\qquad(1)$$\n",
    "\n",
    "где $L_1,\\ldots,L_n$ - некоторые нижнетреугольные матрицы.\n",
    "\n",
    "**Вопрос:** Ну, и где здесь матрица $L$?!\n",
    "\n",
    "**Ответ:** Введём новые матрицы\n",
    "\n",
    "\\begin{align*}\n",
    "L'_n &= L_n\\\\\n",
    "L'_{n-1} &= P_nL_nP_{n-1}\\\\\n",
    "L'_{n-2} &= P_nP_{n-1}L_{n-1}P_n^{-1}P_{n-1}^{-1}\\\\\n",
    "&\\ldots\\\\\n",
    "L'_1 &= P_nP_{n-1}\\ldots P_2L_1P_2^{-1}\\ldots P_{n-1}^{-1}P_n^{-1}\n",
    "\\end{align*}\n",
    "\n",
    "**Упражнение.** Матрицы $L'_i$ тоже нижнетреугольные!\n",
    "\n",
    "Тогда левая часть (1) перепишется в виде\n",
    "\n",
    "$$\\underbrace{L'_nL'_{n-1}\\ldots L'_1}_{:=L^{-1}}\\underbrace{P_nP_{n-1}\\ldots P_1}_{:=P^{-1}}\\cdot A$$\n",
    "\n",
    "**Итог:** разложение вида\n",
    "$$A = PLU$$\n",
    "где $P$ - матрица перестановки.\n",
    "\n",
    "Функция `scipy.linalg.lu` в Питоне находит именно такое разложение!\n",
    "\n",
    "Все элементы $L$ не превосходят $1$, так что $||L||]\\leqslant 1$. При этом\n",
    "$$||\\Delta A|| \\leqslant ||A||\\cdot O(\\rho \\varepsilon_{machine}),$$\n",
    "где\n",
    "$$\\rho = \\frac{\\max_{i,j}|u_{ij}|}{\\max_{i,j}|a_{ij}|}$$\n",
    "Это число называется *фактором роста матрицы*.\n",
    "\n",
    "Но что, если это отношение велико?\n",
    "\n",
    "**Задание 1.2 (1 балл)** Сгенерируйте матрицу $500\\times500$, имеющую вид\n",
    "\n",
    "$$\\begin{pmatrix}\n",
    "1 & 0 & 0 & \\cdots & 0 & 0 & 1\\\\\n",
    "-1 & 1 & 0 &  &  & 0 & 1\\\\\n",
    "-1 & -1 & 1 & 0  &  & 0 & 1\\\\\n",
    "\\vdots & & \\ddots & \\ddots  & \\ddots & \\vdots & \\vdots \\\\\n",
    "-1 & -1 & -1 & \\ddots & 1 & 0 & 1\\\\\n",
    "-1 & -1 & -1 &  & -1 & 1 & 1\\\\\n",
    "-1 & -1 & -1 & \\cdots & -1 & -1 & 1\n",
    "\\end{pmatrix}$$\n",
    "\n",
    "Например, вы можете сгенерировать сначала нулевую матрицу нужного размера, а потом заполнить её клетки правильными числами.\n",
    "\n",
    "Найдите её PLU-разложение и QR-разложение. Убедитесь, что $P = E$. Вычислите $||A - LU||_2$ и $||A - QR||_2$. Чему равен фактор роста матрицы $A$?"
   ]
  },
  {
   "cell_type": "code",
   "execution_count": 3,
   "metadata": {
    "deletable": false,
    "nbgrader": {
     "checksum": "cac22fb496a19905ea60171e1ea900cb",
     "grade": true,
     "grade_id": "cell-62805235a98f64e1",
     "locked": false,
     "points": 1,
     "schema_version": 1,
     "solution": true
    }
   },
   "outputs": [
    {
     "name": "stdout",
     "output_type": "stream",
     "text": [
      "P == E : True\n",
      "A - LU norm : 3.102517070422723e+116\n",
      "A - QR norm : 1.173142952228984e-13\n",
      "A growth factor : 1.636695303948071e+150\n"
     ]
    }
   ],
   "source": [
    "# YOUR CODE HERE\n",
    "A = np.zeros((500, 500))\n",
    "for i in range(A.shape[0]):\n",
    "    A[i, i] = 1\n",
    "    A[i, -1] = 1\n",
    "    for j in range(i):\n",
    "        A[i, j] = -1\n",
    "\n",
    "P, L, U = sla.lu(A)\n",
    "Q, R = sla.qr(A)\n",
    "\n",
    "def norm2(matrix):\n",
    "    return sla.norm(matrix, axis=0).max()\n",
    "\n",
    "print(\"P == E : {}\".format((P == np.identity(500)).all()))\n",
    "print(\"A - LU norm : {}\".format(norm2(A - L @ U)))\n",
    "print(\"A - QR norm : {}\".format(norm2(A - Q @ R)))\n",
    "print(\"A growth factor : {}\".format(np.absolute(U).max()/np.absolute(A).max()))"
   ]
  },
  {
   "cell_type": "markdown",
   "metadata": {
    "deletable": false,
    "editable": false,
    "nbgrader": {
     "checksum": "601748b218918a044c0932e3cd58dfb6",
     "grade": false,
     "grade_id": "cell-155f1d4793cfe72f",
     "locked": true,
     "schema_version": 1,
     "solution": false
    }
   },
   "source": [
    "К счастью, на практике так редко очень бывает (чёрт его знает почему). Тем не менее, QR-разложение всё-таки лучше. Теоретическая оценка для ошибки QR-разложения имеет вид\n",
    "\n",
    "$$||A - QR||_2 \\leqslant ||A||_2\\cdot O(\\varepsilon_{machine})$$\n",
    "\n",
    "**Задание 1.3 (1 балл)** Рассмотрим *матрицу Паскаля* $S_n = \\left(C_{i + j}^i\\right)$ ($i,j = 0,\\ldots,n-1$).\n",
    "\n",
    "Каково её LU-разложение? Выведите формулы для матриц L и U и приведите краткое обоснование прямо в ноутбуке. Не пользуйтесь функцией `scipy.linalg.lu`, чтобы его \"угадать\": матрица P будет отлична от единичной, и вы получите не то, что хотели.\n",
    "\n",
    "Каков её определитель?\n"
   ]
  },
  {
   "cell_type": "markdown",
   "metadata": {
    "deletable": false,
    "nbgrader": {
     "checksum": "2f71c8425045bd533b63c64bb3d9f3c9",
     "grade": true,
     "grade_id": "cell-39f7a6a10e4b7aac",
     "locked": false,
     "points": 1,
     "schema_version": 1,
     "solution": true
    }
   },
   "source": [
    "$$S = LU$$\n",
    "$$L_{ij} = C_{i}^{j}$$\n",
    "$$ U = L^T$$\n",
    "Тогда $S_{ij} = \\sum\\limits_{k=0}^{n-1} C_i^k C_j^k = \\sum\\limits_{k=0}^{min(i, j)} C_i^{i - k} C_j^k$\n",
    "Последняя формула имеет следующий комбинаторный смысл: множство из $i+j$ элементов мы разбиваем на два множества из $i$ и $j$ элементов. Затем для всех $k$ выбираем $i-k$ элементное подмножество первого множества и для каждого выбранного подмножества выбираем k элементное подмножество второго множества. Но таким образом мы перебрали в точности все $i$ элементные подмножества исходного множества. То есть\n",
    "$S_{ij} = C_{i+j}^i$\n",
    "$$ det(S) = 1$$"
   ]
  },
  {
   "cell_type": "markdown",
   "metadata": {
    "deletable": false,
    "editable": false,
    "nbgrader": {
     "checksum": "2ff2fcfbdc404b849559da6113b31052",
     "grade": false,
     "grade_id": "cell-1597fdf865fccdfe",
     "locked": true,
     "schema_version": 1,
     "solution": false
    }
   },
   "source": [
    "Напишите функцию `my_pascal(n)`, генерирующую матрицу Паскаля размера $n\\times n$."
   ]
  },
  {
   "cell_type": "code",
   "execution_count": 4,
   "metadata": {
    "collapsed": true,
    "deletable": false,
    "nbgrader": {
     "checksum": "165252b6bbb7e9cce21be693255b3fcc",
     "grade": false,
     "grade_id": "cell-801cba70cd0a3985",
     "locked": false,
     "schema_version": 1,
     "solution": true
    }
   },
   "outputs": [],
   "source": [
    "def my_pascal(n):\n",
    "    '''\n",
    "    Ввод\n",
    "    -----\n",
    "    n - размерность матрицы\n",
    "    \n",
    "    Вывод\n",
    "    ------\n",
    "    Матрица Паская nxn\n",
    "    '''\n",
    "    # YOUR CODE HERE\n",
    "    pascal = np.ones((n, n))\n",
    "    for i in range(1, n):\n",
    "        for j in range(1, n):\n",
    "            pascal[i, j] = pascal[i - 1, j] + pascal[i, j - 1]\n",
    "    return pascal"
   ]
  },
  {
   "cell_type": "code",
   "execution_count": 5,
   "metadata": {},
   "outputs": [
    {
     "data": {
      "text/plain": [
       "array([17, 24, 35, 51])"
      ]
     },
     "execution_count": 5,
     "metadata": {},
     "output_type": "execute_result"
    }
   ],
   "source": [
    "import numpy as np\n",
    "my_rows = [1,2,3,5]\n",
    "my_columns = [7, 4, 5, 1]\n",
    "X = np.arange(100).reshape(10, 10)\n",
    "X[my_rows,my_columns]"
   ]
  },
  {
   "cell_type": "code",
   "execution_count": 6,
   "metadata": {},
   "outputs": [
    {
     "data": {
      "text/plain": [
       "array([[17, 14, 15, 11],\n",
       "       [27, 24, 25, 21],\n",
       "       [37, 34, 35, 31],\n",
       "       [57, 54, 55, 51]])"
      ]
     },
     "execution_count": 6,
     "metadata": {},
     "output_type": "execute_result"
    }
   ],
   "source": [
    "X[np.ix_(my_rows,my_columns)]"
   ]
  },
  {
   "cell_type": "code",
   "execution_count": 7,
   "metadata": {
    "collapsed": true,
    "deletable": false,
    "editable": false,
    "nbgrader": {
     "checksum": "39bdf5f0eed6359f0c50deb213c83c53",
     "grade": true,
     "grade_id": "cell-19621f7832a78eb0",
     "locked": true,
     "points": 0,
     "schema_version": 1,
     "solution": false
    }
   },
   "outputs": [],
   "source": [
    "# Run this!\n",
    "\n",
    "A_test = my_pascal(5)\n",
    "assert A_test.shape == (5, 5)\n"
   ]
  },
  {
   "cell_type": "markdown",
   "metadata": {
    "deletable": false,
    "editable": false,
    "nbgrader": {
     "checksum": "c509683b4e73b602c5d117c19819c874",
     "grade": false,
     "grade_id": "cell-6ceff832ea0107e3",
     "locked": true,
     "schema_version": 1,
     "solution": false
    }
   },
   "source": [
    "Найдите норму разности $||A - PLU||_2$. Не такая уж и большая, правда?"
   ]
  },
  {
   "cell_type": "code",
   "execution_count": 8,
   "metadata": {},
   "outputs": [
    {
     "data": {
      "text/plain": [
       "0.0"
      ]
     },
     "execution_count": 8,
     "metadata": {},
     "output_type": "execute_result"
    }
   ],
   "source": [
    "P, L, U = sla.lu(A_test)\n",
    "norm2(A_test - P @ L @ U)"
   ]
  },
  {
   "cell_type": "markdown",
   "metadata": {
    "deletable": false,
    "editable": false,
    "nbgrader": {
     "checksum": "e0a9749ab740f67a83897842609e7765",
     "grade": false,
     "grade_id": "cell-c9e74a1c2ff823f0",
     "locked": true,
     "schema_version": 1,
     "solution": false
    }
   },
   "source": [
    "Теперь попросим компьютер вычислить определитель матрицы Паскаля $30\\times30$ и решить простенькую систему уравнений:"
   ]
  },
  {
   "cell_type": "code",
   "execution_count": 9,
   "metadata": {
    "deletable": false,
    "editable": false,
    "nbgrader": {
     "checksum": "80e4b0c3b36641894c8dbffc76ddc0d6",
     "grade": false,
     "grade_id": "cell-dde6b024c931eedc",
     "locked": true,
     "schema_version": 1,
     "solution": false
    }
   },
   "outputs": [
    {
     "name": "stdout",
     "output_type": "stream",
     "text": [
      "determinant:  1.0299188904699096e+48\n",
      "residual:  1298100.28437\n"
     ]
    },
    {
     "name": "stderr",
     "output_type": "stream",
     "text": [
      "/opt/anaconda3/lib/python3.6/site-packages/scipy/linalg/basic.py:223: RuntimeWarning: scipy.linalg.solve\n",
      "Ill-conditioned matrix detected. Result is not guaranteed to be accurate.\n",
      "Reciprocal condition number: 1.158005706474147e-23\n",
      "  ' condition number: {}'.format(rcond), RuntimeWarning)\n"
     ]
    }
   ],
   "source": [
    "A = my_pascal(30)\n",
    "print('determinant: ', sla.det(A))\n",
    "\n",
    "# Try to solve a linear system\n",
    "x = np.ones(30)\n",
    "b = A.dot(x).reshape(30, 1) # для linalg.solve из scipy\n",
    "x1 = sla.solve(A, b)\n",
    "print('residual: ', sla.norm(x1 - x))"
   ]
  },
  {
   "cell_type": "markdown",
   "metadata": {
    "deletable": false,
    "editable": false,
    "nbgrader": {
     "checksum": "9ec32e8d5b8364b92abc589b183ca473",
     "grade": false,
     "grade_id": "cell-e15dca83c5201f03",
     "locked": true,
     "schema_version": 1,
     "solution": false
    }
   },
   "source": [
    "Так себе ошибка. Теперь попробуем сделать это с помощью QR-разложения. Станет ли лучше?"
   ]
  },
  {
   "cell_type": "code",
   "execution_count": 10,
   "metadata": {
    "deletable": false,
    "editable": false,
    "nbgrader": {
     "checksum": "5d231ed11037252907d4c7d7d298df11",
     "grade": false,
     "grade_id": "cell-e8c8bca56b68a1e8",
     "locked": true,
     "schema_version": 1,
     "solution": false
    }
   },
   "outputs": [
    {
     "name": "stdout",
     "output_type": "stream",
     "text": [
      "residual:  1752649573.74\n"
     ]
    }
   ],
   "source": [
    "Q, R = sla.qr(A)\n",
    "x2 = sla.solve_triangular(R, Q.T.dot(b))\n",
    "print('residual: ', sla.norm(x2 - x))"
   ]
  },
  {
   "cell_type": "markdown",
   "metadata": {
    "deletable": false,
    "editable": false,
    "nbgrader": {
     "checksum": "220451e2a19ad8c2a9d3673a1b9c678e",
     "grade": false,
     "grade_id": "cell-a1a17aa049ac8ec0",
     "locked": true,
     "schema_version": 1,
     "solution": false
    }
   },
   "source": [
    "Объясните полученные неприятные результаты."
   ]
  },
  {
   "cell_type": "markdown",
   "metadata": {},
   "source": [
    "Из-за большой значений в правом нижнем углу и относительно маленьких в левом верхнем точности float не хватает для вычисления разлодения"
   ]
  },
  {
   "cell_type": "markdown",
   "metadata": {
    "deletable": false,
    "editable": false,
    "nbgrader": {
     "checksum": "dc14b07b750e1a57ac71c02cb752eec3",
     "grade": false,
     "grade_id": "cell-a4f00cee552ae171",
     "locked": true,
     "schema_version": 1,
     "solution": false
    }
   },
   "source": [
    "## Часть 2. Решение СЛАУ с положительно определённой матрицей\n",
    "\n",
    "**Задание 2.1. Какие же методы использовать? (3 балла)**\n",
    "\n",
    "Реализуйте несколько алгоритмов решения СЛАУ $Ax = b$, где $A = A^T$, $A \\geqslant 0$ с матричной правой частью $b$.\n",
    "\n",
    "1. **Наивный способ**: $x = A^{-1}b$;\n",
    "\n",
    "2. **Стандартный способ**: с помощью процедуры `solve` модуля `scipy.linalg`;\n",
    "\n",
    "3. **Разложение Холецкого**: с помощью разложения Холецкого для матрицы $A$ и последующего решения двух СЛАУ с треугольными матрицами;\n",
    "\n",
    "4. **Разложение Холецкого с процедурами scipy**: с помощью разложения Холецкого для матрицы $A$ и специальных процедур из пакета `scipy.linalg` (`cho_factor`, `cho_solve`).\n",
    "\n",
    "Для решения СЛАУ с треугольной матрицей можно воспользоваться функцией `solve_triangular` из пакета `scipy.linalg`."
   ]
  },
  {
   "cell_type": "code",
   "execution_count": 11,
   "metadata": {
    "collapsed": true,
    "deletable": false,
    "nbgrader": {
     "checksum": "b9fbc7541c79e23e870b610912f69007",
     "grade": false,
     "grade_id": "cell-6caf0402ed35a8ea",
     "locked": false,
     "schema_version": 1,
     "solution": true
    }
   },
   "outputs": [],
   "source": [
    "def naive_solve(A, b):\n",
    "    return sla.inv(A).dot(b)\n",
    "\n",
    "def standard_solve(A, b):\n",
    "    return sla.solve(A, b)\n",
    "\n",
    "def cholesky_solve(A, b):\n",
    "    A_cho = sla.cholesky(A)\n",
    "    return sla.solve_triangular(A_cho, sla.solve_triangular(A_cho.T, b, lower=True))\n",
    "\n",
    "def cho_scipy_solve(A, b):\n",
    "    return sla.cho_solve(sla.cho_factor(A), b)"
   ]
  },
  {
   "cell_type": "markdown",
   "metadata": {
    "deletable": false,
    "editable": false,
    "nbgrader": {
     "checksum": "ec4216a319fcc0d63dc1e562947e6bf7",
     "grade": false,
     "grade_id": "cell-bdac2e9beba02081",
     "locked": true,
     "schema_version": 1,
     "solution": false
    }
   },
   "source": [
    "Проведите тестирование реализованных алгоритмов на небольшой СЛАУ на предмет совпадения ответов"
   ]
  },
  {
   "cell_type": "code",
   "execution_count": 12,
   "metadata": {},
   "outputs": [
    {
     "data": {
      "text/plain": [
       "True"
      ]
     },
     "execution_count": 12,
     "metadata": {},
     "output_type": "execute_result"
    }
   ],
   "source": [
    "# Your test go here\n",
    "\n",
    "def gen_A(size):\n",
    "    X = np.random.randn(size, size)\n",
    "    return X.dot(X.T)\n",
    "\n",
    "def gen_b(*size):\n",
    "    return np.random.randn(*size)\n",
    "\n",
    "def test(A, b):\n",
    "    eps = 1e-5\n",
    "    answers = (naive_solve(A, b), standard_solve(A, b), cholesky_solve(A, b), cho_scipy_solve(A, b))\n",
    "    for answer in answers:\n",
    "        if np.max(A @ answer - b) > eps:\n",
    "            return False\n",
    "    return True\n",
    "\n",
    "test(gen_A(1000), gen_b(1000))"
   ]
  },
  {
   "cell_type": "code",
   "execution_count": 13,
   "metadata": {
    "collapsed": true,
    "deletable": false,
    "editable": false,
    "nbgrader": {
     "checksum": "7de04f5c5d0e86d11918f7c443d3866b",
     "grade": true,
     "grade_id": "cell-5796b0a20aea38ad",
     "locked": true,
     "points": 0,
     "schema_version": 1,
     "solution": false
    }
   },
   "outputs": [],
   "source": [
    "# And can you beat our tests?\n"
   ]
  },
  {
   "cell_type": "markdown",
   "metadata": {},
   "source": [
    "Проведите эксперименты и выясните, как меняется время работы этих методов\n",
    "\n",
    "- с ростом размера матрицы $A$ при фиксированном числе правых частей. Рассмотрите системы с 10, 100, 1000 правых частей;\n",
    "\n",
    "- с ростом числа правых частей при фиксированном размере матрицы $A$ (например, $100\\times100$).\n",
    "\n",
    "Обязательно нарисуйте графики (время работы от размера). Какой метод оказывается более быстрым?\n",
    "\n",
    "Для тестирования вам пригодятся случайные матрицы, сгенерированные, например, с помощью функции `numpy.random.randn`. Но не забудьте, что в задаче речь идёт о *симметрических положительно определённых матрицах*. Так что подумайте, как из случайных матриц сделать симметрические положительно определённые.\n",
    "\n",
    "Матрицы левых частей должны быть не менее $100\\times100$: при меньших размерностях заметную роль могут играть факторы, не имеющие отношения к алгебре. Мы рекомендуем рассматривать системы с матрицами размера от 100 до 1000 и с числом правых частей от 10 до 10000. Приготовьтесь к тому, что эксперименты могут занять какое-то время."
   ]
  },
  {
   "cell_type": "code",
   "execution_count": 14,
   "metadata": {
    "scrolled": true
   },
   "outputs": [
    {
     "name": "stdout",
     "output_type": "stream",
     "text": [
      "Time for b size = 10\n",
      "naive_solve     #############################################\n",
      "standard_solve  #############################################\n",
      "cholesky_solve  #############################################\n",
      "cho_scipy_solve #############################################\n",
      "Time for b size = 100\n",
      "naive_solve     #############################################\n",
      "standard_solve  #############################################\n",
      "cholesky_solve  #############################################\n",
      "cho_scipy_solve #############################################\n",
      "Time for b size = 1000\n",
      "naive_solve     #############################################\n",
      "standard_solve  #############################################\n",
      "cholesky_solve  #############################################\n",
      "cho_scipy_solve #############################################\n",
      "Done!\n"
     ]
    }
   ],
   "source": [
    "times = {}\n",
    "solvers = (naive_solve, standard_solve, cholesky_solve, cho_scipy_solve)\n",
    "for b_size in (10, 100, 1000):\n",
    "    print('Time for b size = {}'.format(b_size))\n",
    "    times[b_size] = {}\n",
    "    for solver in solvers:\n",
    "        print(solver.__name__.ljust(15), end = ' ')\n",
    "        times[b_size][solver] = []\n",
    "        for A_size in range(100, 1000, 10):\n",
    "            if not A_size%20:\n",
    "                print('#', end = '')\n",
    "            A = gen_A(A_size)\n",
    "            b = gen_b(A_size, b_size)\n",
    "            time = timeit.timeit(lambda : solver(A, b), number=1)\n",
    "            times[b_size][solver].append(time)\n",
    "        print()\n",
    "print('Done!')"
   ]
  },
  {
   "cell_type": "code",
   "execution_count": 15,
   "metadata": {
    "scrolled": false
   },
   "outputs": [
    {
     "name": "stdout",
     "output_type": "stream",
     "text": [
      "Зависимость времени исполнения, от размера матрицы A в логарифмической шкале\n"
     ]
    },
    {
     "data": {
      "image/png": "[encoded data removed]",
      "text/plain": [
       "<matplotlib.figure.Figure at 0x7fccbdaa0c50>"
      ]
     },
     "metadata": {},
     "output_type": "display_data"
    },
    {
     "data": {
      "image/png": "[encoded data removed]",
      "text/plain": [
       "<matplotlib.figure.Figure at 0x7fcc8c8ac780>"
      ]
     },
     "metadata": {},
     "output_type": "display_data"
    },
    {
     "data": {
      "image/png": "[encoded data removed]",
      "text/plain": [
       "<matplotlib.figure.Figure at 0x7fcc8cce3278>"
      ]
     },
     "metadata": {},
     "output_type": "display_data"
    }
   ],
   "source": [
    "X = np.arange(100, 1000, 10)\n",
    "print('Зависимость времени исполнения, от размера матрицы A в логарифмической шкале')\n",
    "for b_size in (10, 100, 1000):\n",
    "    plt.figure(figsize=(10, 8))\n",
    "    for solver in solvers:\n",
    "        plt.plot(X, times[b_size][solver], label=solver.__name__)\n",
    "        plt.title('b size = {}'.format(b_size))\n",
    "        plt.yscale('log')\n",
    "        plt.xlabel('Matrix size', fontsize=12)\n",
    "        plt.ylabel('Time', fontsize=15)\n",
    "        plt.legend(prop={'size': 16})\n",
    "    plt.show()"
   ]
  },
  {
   "cell_type": "code",
   "execution_count": 16,
   "metadata": {},
   "outputs": [
    {
     "name": "stdout",
     "output_type": "stream",
     "text": [
      "naive_solve     ##################################################\n",
      "standard_solve  ##################################################\n",
      "cholesky_solve  ##################################################\n",
      "cho_scipy_solve ##################################################\n",
      "Done!\n"
     ]
    }
   ],
   "source": [
    "A_size = 100\n",
    "for solver in solvers:\n",
    "    print(solver.__name__.ljust(15), end = ' ')\n",
    "    times[solver] = []\n",
    "    for b_size in range(100, 10001, 100):\n",
    "        if not b_size%200:\n",
    "                print('#', end = '')\n",
    "        A = gen_A(A_size)\n",
    "        b = gen_b(A_size, b_size)\n",
    "        time = timeit.timeit(lambda : solver(A, b), number=1)\n",
    "        times[solver].append(time)\n",
    "    print()\n",
    "print('Done!')"
   ]
  },
  {
   "cell_type": "code",
   "execution_count": 17,
   "metadata": {},
   "outputs": [
    {
     "name": "stdout",
     "output_type": "stream",
     "text": [
      "Зависимость времени исполнения, от размера правой части b в логарифмической шкале\n"
     ]
    },
    {
     "data": {
      "image/png": "[encoded data removed]",
      "text/plain": [
       "<matplotlib.figure.Figure at 0x7fcc84a816a0>"
      ]
     },
     "metadata": {},
     "output_type": "display_data"
    }
   ],
   "source": [
    "X = np.arange(100, 10001, 100)\n",
    "print('Зависимость времени исполнения, от размера правой части b в логарифмической шкале')\n",
    "plt.figure(figsize=(10, 8))\n",
    "for solver in solvers:\n",
    "    plt.plot(X, times[solver], label=solver.__name__)\n",
    "    plt.yscale('log')\n",
    "    plt.xlabel('b size', fontsize=12)\n",
    "    plt.ylabel('Time', fontsize=15)\n",
    "    plt.legend(prop={'size': 16})"
   ]
  },
  {
   "cell_type": "markdown",
   "metadata": {
    "deletable": false,
    "nbgrader": {
     "checksum": "14ecbbbb4142cf016dcc0fa18399c584",
     "grade": true,
     "grade_id": "cell-589d249219c09f19",
     "locked": false,
     "points": 3,
     "schema_version": 1,
     "solution": true
    }
   },
   "source": [
    "Как видно метод использующий реализацию разложения Холецкого из scipy работает быстрее всего, хотя не сильно выигрывает у наивной реализации и solve_triangular. А вот стандартная реализация очень сильно проигрывает, причём тем больше, чем больше размер матрицы."
   ]
  },
  {
   "cell_type": "markdown",
   "metadata": {
    "deletable": false,
    "editable": false,
    "nbgrader": {
     "checksum": "1f17c5258154e221fa1b8331c5cf6abb",
     "grade": false,
     "grade_id": "cell-adee30c6bcf75d8b",
     "locked": true,
     "schema_version": 1,
     "solution": false
    }
   },
   "source": [
    "**Задание 2.2. Пример: вычисление логарифма плотности многомерного нормального распределения (3 балла)**\n",
    "\n",
    "Случайная величина $\\vec{x}\\in\\mathbb{R}^D$ имеет многомерное нормальное распределение, если её плотность может быть представлена как\n",
    "$$\n",
    "p(\\vec{x}) = \\mathcal{N}(\\vec{x}|\\vec{\\mu},\\Sigma) = \\frac{1}{\\sqrt{2\\pi}^D\\sqrt{\\det\\Sigma}}\\exp\\left(-\\frac{1}{2}(\\vec{x}-\\vec{\\mu})^T\\Sigma^{-1}(\\vec{x}-\\vec{\\mu})\\right)\n",
    "$$\n",
    "Здесь $\\vec{\\mu}\\in\\mathbb{R}^D -$ вектор мат. ожидания $\\vec{x}$, а $\\Sigma\\in\\mathbb{R}^{D{\\times}D} -$ матрица ковариации.\n",
    "\n",
    "С помощью матричных разложений реализуйте алгоритм вычисления логарифма нормальной плотности для набора векторов $X = \\{\\vec{x}_1,\\dots,\\vec{x}_N\\}$ для заданных $\\vec{\\mu}$ и $\\Sigma$."
   ]
  },
  {
   "cell_type": "code",
   "execution_count": 120,
   "metadata": {
    "collapsed": true,
    "deletable": false,
    "nbgrader": {
     "checksum": "6d7fe27f5b8d36e70142ab3bb9084510",
     "grade": false,
     "grade_id": "cell-0bc9a15ed8b06222",
     "locked": false,
     "schema_version": 1,
     "solution": true
    }
   },
   "outputs": [],
   "source": [
    "from scipy.stats import multivariate_normal\n",
    "\n",
    "#Заготовка:\n",
    "def my_multivariate_normal_logpdf(X, m, S):\n",
    "    '''\n",
    "    Ввод\n",
    "    -----\n",
    "    X: набор точек, numpy array размера N x D;\n",
    "    m: вектор средних значений, numpy array длины D;\n",
    "    S: ковариационная матрицы, numpy array размера D x D.\n",
    "    \n",
    "    Вывод\n",
    "    ------\n",
    "    res: результат вычислений, numpy array длины N.\n",
    "    '''\n",
    "    U = sla.cho_factor(S)\n",
    "    det_sqr = np.diagonal(U[0]).prod()\n",
    "    X0 = X - m[None, :]\n",
    "    Y = sla.cho_solve(U, X0.T)\n",
    "    # Здесь логарифм произведения превращён в сумму логарифмов, потому что иначе при больших размерностях \n",
    "    # не хватает точности логарифм становится равен inf\n",
    "    return - len(m) / 2 * np.log(2*np.pi) - np.log(U[0].diagonal()).sum() - (X0.T * Y).sum(axis=0) / 2"
   ]
  },
  {
   "cell_type": "code",
   "execution_count": 86,
   "metadata": {
    "collapsed": true,
    "deletable": false,
    "editable": false,
    "nbgrader": {
     "checksum": "4c75acd1a5876b1335cd7e1ec7ac09fd",
     "grade": true,
     "grade_id": "cell-e25b2205e51c8986",
     "locked": true,
     "points": 1,
     "schema_version": 1,
     "solution": false
    }
   },
   "outputs": [],
   "source": [
    "# Run this!\n",
    "\n",
    "X_testing = np.random.multivariate_normal(np.zeros(6), np.eye(6), 5)\n",
    "assert my_multivariate_normal_logpdf(X_testing, np.zeros(6), np.eye(6)).shape == (5,)\n"
   ]
  },
  {
   "cell_type": "markdown",
   "metadata": {},
   "source": [
    "Замерьте время работы вашего алгоритма и функции `scipy.stats.multivariate_normal.logpdf` для различных значений $D$. Постарайтесь добиться, чтобы ваш алгоритм выигрывал по скорости у стандартной функции."
   ]
  },
  {
   "cell_type": "code",
   "execution_count": 122,
   "metadata": {
    "collapsed": true,
    "deletable": false,
    "editable": false,
    "nbgrader": {
     "checksum": "9729d186296a7e1354db533c5e6b606e",
     "grade": true,
     "grade_id": "cell-7695c5c47dc34e70",
     "locked": true,
     "points": 1,
     "schema_version": 1,
     "solution": false
    }
   },
   "outputs": [],
   "source": [
    "# Here lie the time tests!\n"
   ]
  },
  {
   "cell_type": "code",
   "execution_count": 123,
   "metadata": {
    "collapsed": true
   },
   "outputs": [],
   "source": [
    "# Your experiments go here\n",
    "\n",
    "X_sizes = (10, 50, 100, 500)\n",
    "D_sizes = range(5, 500, 50)\n",
    "my_times = {}\n",
    "st_times = {}\n",
    "for X_size in X_sizes:\n",
    "    my_times[X_size] = []\n",
    "    st_times[X_size] = []\n",
    "    for D in D_sizes:\n",
    "        while True:\n",
    "            try:\n",
    "                A = gen_A(D)\n",
    "                m = np.random.randn(D)\n",
    "                X = gen_b(X_size, D)\n",
    "                my_time = timeit.timeit(lambda : my_multivariate_normal_logpdf(X, m, A), number=1)\n",
    "                st_time = timeit.timeit(lambda : multivariate_normal.logpdf(X, m, A), number=1)\n",
    "                break\n",
    "            except sla.LinAlgError: #  For cathcing singular matrix, that rarely appear\n",
    "                pass\n",
    "        my_times[X_size].append(my_time)\n",
    "        st_times[X_size].append(st_time)"
   ]
  },
  {
   "cell_type": "code",
   "execution_count": 124,
   "metadata": {
    "scrolled": false
   },
   "outputs": [
    {
     "data": {
      "image/png": "[encoded data removed]",
      "text/plain": [
       "<matplotlib.figure.Figure at 0x7fcc6b5ceba8>"
      ]
     },
     "metadata": {},
     "output_type": "display_data"
    },
    {
     "data": {
      "image/png": "[encoded data removed]",
      "text/plain": [
       "<matplotlib.figure.Figure at 0x7fcc6cbce780>"
      ]
     },
     "metadata": {},
     "output_type": "display_data"
    },
    {
     "data": {
      "image/png": "[encoded data removed]",
      "text/plain": [
       "<matplotlib.figure.Figure at 0x7fcc6b6f61d0>"
      ]
     },
     "metadata": {},
     "output_type": "display_data"
    },
    {
     "data": {
      "image/png": "[encoded data removed]",
      "text/plain": [
       "<matplotlib.figure.Figure at 0x7fcc6b5fa7f0>"
      ]
     },
     "metadata": {},
     "output_type": "display_data"
    }
   ],
   "source": [
    "for X_size in X_sizes:\n",
    "    plt.figure(figsize=(10, 8))\n",
    "    plt.plot(D_sizes, my_times[X_size], label = 'my time')\n",
    "    plt.plot(D_sizes, st_times[X_size], label = 'standart time')\n",
    "    plt.legend(prop={'size': 16})\n",
    "    plt.title('X size = {}'.format(X_size))\n",
    "    plt.xlabel('Dimension')\n",
    "    plt.ylabel('Time')\n",
    "    plt.show()"
   ]
  },
  {
   "cell_type": "markdown",
   "metadata": {
    "deletable": false,
    "nbgrader": {
     "checksum": "bd3dea4a59f3c17dc4c9a19b255c6d6b",
     "grade": true,
     "grade_id": "cell-f18c08db49d5e680",
     "locked": false,
     "points": 1,
     "schema_version": 1,
     "solution": true
    }
   },
   "source": [
    "После удаления вычисления обратной матрицы и цикла for удалось обогнать стандартную функцию"
   ]
  },
  {
   "cell_type": "markdown",
   "metadata": {},
   "source": [
    "В задаче будут оцениваться:\n",
    "- удалось ли вам обогнать библиотечную функцию;\n",
    "- использованы ли вы матричные разложения (или просто обратили матрицу:))\n",
    "- наличие дополнительных оптимизаций"
   ]
  },
  {
   "cell_type": "markdown",
   "metadata": {
    "deletable": false,
    "editable": false,
    "nbgrader": {
     "checksum": "dc9d68e961ce1f6761a16d531ae839fe",
     "grade": false,
     "grade_id": "cell-d63b336d2e817c0c",
     "locked": true,
     "schema_version": 1,
     "solution": false
    }
   },
   "source": [
    "## Часть 3. Разреженные матрицы"
   ]
  },
  {
   "cell_type": "markdown",
   "metadata": {
    "collapsed": true,
    "deletable": false,
    "editable": false,
    "nbgrader": {
     "checksum": "f23f3b8d747691a1d0d0727b6607a743",
     "grade": false,
     "grade_id": "cell-0d9b1a87fedb3991",
     "locked": true,
     "schema_version": 1,
     "solution": false
    }
   },
   "source": [
    "Вот здесь http://docs.scipy.org/doc/scipy/reference/sparse.html можно посмотреть, как различные форматы разреженных матриц реализованы в библиотеке `scipy`.\n",
    "\n",
    "Вот здесь https://www.cise.ufl.edu/research/sparse/matrices/index.html выложено много разреженных матриц из разнообразных приложений. Что особенно приятно, сайт предоставляет удобный клиент для скачивания, в котором доступен предпросмотр и данные о том, являются ли матрицы симметричными или положительно определёнными.\n",
    "\n",
    "**Задание 3.1 (0,5 балла)** Когда мы анализировали время преобразований между различными форматами, вы могли заметить, что преобразование из формата `LIL` в формат `CSR` занимает гораздо больше времени, чем преобразования между форматами `COO`, `CSR` и `CSC`. Почему так происходит?"
   ]
  },
  {
   "cell_type": "markdown",
   "metadata": {
    "collapsed": true,
    "deletable": false,
    "nbgrader": {
     "checksum": "1262fa569e7d226faba6c66da6752ad6",
     "grade": true,
     "grade_id": "cell-a099d975985fc06d",
     "locked": false,
     "points": 0.5,
     "schema_version": 1,
     "solution": true
    }
   },
   "source": [
    "YOUR ANSWER HERE"
   ]
  },
  {
   "cell_type": "markdown",
   "metadata": {
    "collapsed": true
   },
   "source": [
    "**Задание 3.2 (1 балл)** Торговая сеть предоставила вам данные о покупках своих клиентов, представляющие собою \n",
    "таблицу со столбцами \n",
    "* Номер записи\n",
    "* *InvoiceNo* - номер чека\n",
    "* *StockCode* - код товара\n",
    "* *Description* - название товара\n",
    "\n",
    "Чтобы понять, какие товары покупают вместе, вы решили построить (разреженную) матрицу, строки и столбцы которой соответствуют различным товарам, а в клетке с \"номером\" $(g_1, g_2)$ стоит число $c(g_1 \\& g_2)$ --- количество чеков, содержащих оба товара. \n",
    "\n",
    "Ниже приведён код, который вам нужно дополнить, дописав функцию ``CreateMatrix``, создающая из структуры pandas.DataFrame разреженную матрицу. Ваша реализация должна удовлетворять следующим свойствам:\n",
    "* матрица должна создаваться эффективно и по возможности с минимальным числом циклов;\n",
    "* итоговая матрица должна позволять быстро отвечать на следующие вопросы:\n",
    "  - сколько всего было куплено товаров данного типа?\n",
    "  - какие пары товаров покупались вместе чаще всего?\n",
    "  - какие товары чаще всего покупались вместе с данным товаром?\n",
    "\n",
    "Пожалуйста, объясните, почему вы выбрали именно ту, а не иную архитектуру."
   ]
  },
  {
   "cell_type": "markdown",
   "metadata": {
    "deletable": false,
    "editable": false,
    "nbgrader": {
     "checksum": "1c5d765d36b42a0d65cffa4198128f4b",
     "grade": false,
     "grade_id": "cell-c560906bda21a786",
     "locked": true,
     "schema_version": 1,
     "solution": false
    }
   },
   "source": [
    "Загрузим данные:"
   ]
  },
  {
   "cell_type": "code",
   "execution_count": 23,
   "metadata": {},
   "outputs": [
    {
     "ename": "FileNotFoundError",
     "evalue": "File b'Online Retail Short.csv' does not exist",
     "output_type": "error",
     "traceback": [
      "\u001b[0;31m---------------------------------------------------------------------------\u001b[0m",
      "\u001b[0;31mFileNotFoundError\u001b[0m                         Traceback (most recent call last)",
      "\u001b[0;32m<ipython-input-23-a1b381ae0a37>\u001b[0m in \u001b[0;36m<module>\u001b[0;34m()\u001b[0m\n\u001b[1;32m      1\u001b[0m \u001b[0;32mimport\u001b[0m \u001b[0mpandas\u001b[0m \u001b[0;32mas\u001b[0m \u001b[0mpd\u001b[0m\u001b[0;34m\u001b[0m\u001b[0m\n\u001b[0;32m----> 2\u001b[0;31m \u001b[0mreceipts\u001b[0m \u001b[0;34m=\u001b[0m \u001b[0mpd\u001b[0m\u001b[0;34m.\u001b[0m\u001b[0mread_csv\u001b[0m\u001b[0;34m(\u001b[0m\u001b[0;34m'Online Retail Short.csv'\u001b[0m\u001b[0;34m,\u001b[0m \u001b[0msep\u001b[0m\u001b[0;34m=\u001b[0m\u001b[0;34m';'\u001b[0m\u001b[0;34m)\u001b[0m\u001b[0;34m\u001b[0m\u001b[0m\n\u001b[0m",
      "\u001b[0;32m/opt/anaconda3/lib/python3.6/site-packages/pandas/io/parsers.py\u001b[0m in \u001b[0;36mparser_f\u001b[0;34m(filepath_or_buffer, sep, delimiter, header, names, index_col, usecols, squeeze, prefix, mangle_dupe_cols, dtype, engine, converters, true_values, false_values, skipinitialspace, skiprows, nrows, na_values, keep_default_na, na_filter, verbose, skip_blank_lines, parse_dates, infer_datetime_format, keep_date_col, date_parser, dayfirst, iterator, chunksize, compression, thousands, decimal, lineterminator, quotechar, quoting, escapechar, comment, encoding, dialect, tupleize_cols, error_bad_lines, warn_bad_lines, skipfooter, skip_footer, doublequote, delim_whitespace, as_recarray, compact_ints, use_unsigned, low_memory, buffer_lines, memory_map, float_precision)\u001b[0m\n\u001b[1;32m    653\u001b[0m                     skip_blank_lines=skip_blank_lines)\n\u001b[1;32m    654\u001b[0m \u001b[0;34m\u001b[0m\u001b[0m\n\u001b[0;32m--> 655\u001b[0;31m         \u001b[0;32mreturn\u001b[0m \u001b[0m_read\u001b[0m\u001b[0;34m(\u001b[0m\u001b[0mfilepath_or_buffer\u001b[0m\u001b[0;34m,\u001b[0m \u001b[0mkwds\u001b[0m\u001b[0;34m)\u001b[0m\u001b[0;34m\u001b[0m\u001b[0m\n\u001b[0m\u001b[1;32m    656\u001b[0m \u001b[0;34m\u001b[0m\u001b[0m\n\u001b[1;32m    657\u001b[0m     \u001b[0mparser_f\u001b[0m\u001b[0;34m.\u001b[0m\u001b[0m__name__\u001b[0m \u001b[0;34m=\u001b[0m \u001b[0mname\u001b[0m\u001b[0;34m\u001b[0m\u001b[0m\n",
      "\u001b[0;32m/opt/anaconda3/lib/python3.6/site-packages/pandas/io/parsers.py\u001b[0m in \u001b[0;36m_read\u001b[0;34m(filepath_or_buffer, kwds)\u001b[0m\n\u001b[1;32m    403\u001b[0m \u001b[0;34m\u001b[0m\u001b[0m\n\u001b[1;32m    404\u001b[0m     \u001b[0;31m# Create the parser.\u001b[0m\u001b[0;34m\u001b[0m\u001b[0;34m\u001b[0m\u001b[0m\n\u001b[0;32m--> 405\u001b[0;31m     \u001b[0mparser\u001b[0m \u001b[0;34m=\u001b[0m \u001b[0mTextFileReader\u001b[0m\u001b[0;34m(\u001b[0m\u001b[0mfilepath_or_buffer\u001b[0m\u001b[0;34m,\u001b[0m \u001b[0;34m**\u001b[0m\u001b[0mkwds\u001b[0m\u001b[0;34m)\u001b[0m\u001b[0;34m\u001b[0m\u001b[0m\n\u001b[0m\u001b[1;32m    406\u001b[0m \u001b[0;34m\u001b[0m\u001b[0m\n\u001b[1;32m    407\u001b[0m     \u001b[0;32mif\u001b[0m \u001b[0mchunksize\u001b[0m \u001b[0;32mor\u001b[0m \u001b[0miterator\u001b[0m\u001b[0;34m:\u001b[0m\u001b[0;34m\u001b[0m\u001b[0m\n",
      "\u001b[0;32m/opt/anaconda3/lib/python3.6/site-packages/pandas/io/parsers.py\u001b[0m in \u001b[0;36m__init__\u001b[0;34m(self, f, engine, **kwds)\u001b[0m\n\u001b[1;32m    760\u001b[0m             \u001b[0mself\u001b[0m\u001b[0;34m.\u001b[0m\u001b[0moptions\u001b[0m\u001b[0;34m[\u001b[0m\u001b[0;34m'has_index_names'\u001b[0m\u001b[0;34m]\u001b[0m \u001b[0;34m=\u001b[0m \u001b[0mkwds\u001b[0m\u001b[0;34m[\u001b[0m\u001b[0;34m'has_index_names'\u001b[0m\u001b[0;34m]\u001b[0m\u001b[0;34m\u001b[0m\u001b[0m\n\u001b[1;32m    761\u001b[0m \u001b[0;34m\u001b[0m\u001b[0m\n\u001b[0;32m--> 762\u001b[0;31m         \u001b[0mself\u001b[0m\u001b[0;34m.\u001b[0m\u001b[0m_make_engine\u001b[0m\u001b[0;34m(\u001b[0m\u001b[0mself\u001b[0m\u001b[0;34m.\u001b[0m\u001b[0mengine\u001b[0m\u001b[0;34m)\u001b[0m\u001b[0;34m\u001b[0m\u001b[0m\n\u001b[0m\u001b[1;32m    763\u001b[0m \u001b[0;34m\u001b[0m\u001b[0m\n\u001b[1;32m    764\u001b[0m     \u001b[0;32mdef\u001b[0m \u001b[0mclose\u001b[0m\u001b[0;34m(\u001b[0m\u001b[0mself\u001b[0m\u001b[0;34m)\u001b[0m\u001b[0;34m:\u001b[0m\u001b[0;34m\u001b[0m\u001b[0m\n",
      "\u001b[0;32m/opt/anaconda3/lib/python3.6/site-packages/pandas/io/parsers.py\u001b[0m in \u001b[0;36m_make_engine\u001b[0;34m(self, engine)\u001b[0m\n\u001b[1;32m    964\u001b[0m     \u001b[0;32mdef\u001b[0m \u001b[0m_make_engine\u001b[0m\u001b[0;34m(\u001b[0m\u001b[0mself\u001b[0m\u001b[0;34m,\u001b[0m \u001b[0mengine\u001b[0m\u001b[0;34m=\u001b[0m\u001b[0;34m'c'\u001b[0m\u001b[0;34m)\u001b[0m\u001b[0;34m:\u001b[0m\u001b[0;34m\u001b[0m\u001b[0m\n\u001b[1;32m    965\u001b[0m         \u001b[0;32mif\u001b[0m \u001b[0mengine\u001b[0m \u001b[0;34m==\u001b[0m \u001b[0;34m'c'\u001b[0m\u001b[0;34m:\u001b[0m\u001b[0;34m\u001b[0m\u001b[0m\n\u001b[0;32m--> 966\u001b[0;31m             \u001b[0mself\u001b[0m\u001b[0;34m.\u001b[0m\u001b[0m_engine\u001b[0m \u001b[0;34m=\u001b[0m \u001b[0mCParserWrapper\u001b[0m\u001b[0;34m(\u001b[0m\u001b[0mself\u001b[0m\u001b[0;34m.\u001b[0m\u001b[0mf\u001b[0m\u001b[0;34m,\u001b[0m \u001b[0;34m**\u001b[0m\u001b[0mself\u001b[0m\u001b[0;34m.\u001b[0m\u001b[0moptions\u001b[0m\u001b[0;34m)\u001b[0m\u001b[0;34m\u001b[0m\u001b[0m\n\u001b[0m\u001b[1;32m    967\u001b[0m         \u001b[0;32melse\u001b[0m\u001b[0;34m:\u001b[0m\u001b[0;34m\u001b[0m\u001b[0m\n\u001b[1;32m    968\u001b[0m             \u001b[0;32mif\u001b[0m \u001b[0mengine\u001b[0m \u001b[0;34m==\u001b[0m \u001b[0;34m'python'\u001b[0m\u001b[0;34m:\u001b[0m\u001b[0;34m\u001b[0m\u001b[0m\n",
      "\u001b[0;32m/opt/anaconda3/lib/python3.6/site-packages/pandas/io/parsers.py\u001b[0m in \u001b[0;36m__init__\u001b[0;34m(self, src, **kwds)\u001b[0m\n\u001b[1;32m   1580\u001b[0m         \u001b[0mkwds\u001b[0m\u001b[0;34m[\u001b[0m\u001b[0;34m'allow_leading_cols'\u001b[0m\u001b[0;34m]\u001b[0m \u001b[0;34m=\u001b[0m \u001b[0mself\u001b[0m\u001b[0;34m.\u001b[0m\u001b[0mindex_col\u001b[0m \u001b[0;32mis\u001b[0m \u001b[0;32mnot\u001b[0m \u001b[0;32mFalse\u001b[0m\u001b[0;34m\u001b[0m\u001b[0m\n\u001b[1;32m   1581\u001b[0m \u001b[0;34m\u001b[0m\u001b[0m\n\u001b[0;32m-> 1582\u001b[0;31m         \u001b[0mself\u001b[0m\u001b[0;34m.\u001b[0m\u001b[0m_reader\u001b[0m \u001b[0;34m=\u001b[0m \u001b[0mparsers\u001b[0m\u001b[0;34m.\u001b[0m\u001b[0mTextReader\u001b[0m\u001b[0;34m(\u001b[0m\u001b[0msrc\u001b[0m\u001b[0;34m,\u001b[0m \u001b[0;34m**\u001b[0m\u001b[0mkwds\u001b[0m\u001b[0;34m)\u001b[0m\u001b[0;34m\u001b[0m\u001b[0m\n\u001b[0m\u001b[1;32m   1583\u001b[0m \u001b[0;34m\u001b[0m\u001b[0m\n\u001b[1;32m   1584\u001b[0m         \u001b[0;31m# XXX\u001b[0m\u001b[0;34m\u001b[0m\u001b[0;34m\u001b[0m\u001b[0m\n",
      "\u001b[0;32mpandas/_libs/parsers.pyx\u001b[0m in \u001b[0;36mpandas._libs.parsers.TextReader.__cinit__ (pandas/_libs/parsers.c:4209)\u001b[0;34m()\u001b[0m\n",
      "\u001b[0;32mpandas/_libs/parsers.pyx\u001b[0m in \u001b[0;36mpandas._libs.parsers.TextReader._setup_parser_source (pandas/_libs/parsers.c:8873)\u001b[0;34m()\u001b[0m\n",
      "\u001b[0;31mFileNotFoundError\u001b[0m: File b'Online Retail Short.csv' does not exist"
     ]
    }
   ],
   "source": [
    "import pandas as pd\n",
    "receipts = pd.read_csv('Online Retail Short.csv', sep=';')"
   ]
  },
  {
   "cell_type": "markdown",
   "metadata": {
    "deletable": false,
    "editable": false,
    "nbgrader": {
     "checksum": "05b7661ae182ecf7649c573193a0951c",
     "grade": false,
     "grade_id": "cell-9e000ee585daa653",
     "locked": true,
     "schema_version": 1,
     "solution": false
    }
   },
   "source": [
    "Распечатаем первые несколько строк, чтобы осознать структуру данных:"
   ]
  },
  {
   "cell_type": "code",
   "execution_count": null,
   "metadata": {
    "collapsed": true
   },
   "outputs": [],
   "source": [
    "receipts.head()"
   ]
  },
  {
   "cell_type": "markdown",
   "metadata": {
    "deletable": false,
    "editable": false,
    "nbgrader": {
     "checksum": "5aae8d117d2f2e88f0ad211227e1fd47",
     "grade": false,
     "grade_id": "cell-0ab70f131c9fce8f",
     "locked": true,
     "schema_version": 1,
     "solution": false
    }
   },
   "source": [
    "А теперь та самая функция. Вам могут пригодиться следующие конструкции:\n",
    "\n",
    "* ``for name, group in data.groupby('InvoiceNo')`` --- цикл, в котором ``name`` будут различными значениями ``InvoiceNo``, а ``group`` --- кусками нашего ``DataFrame`` с заданным значением ``InvoiceNo``.\n",
    "* ``for g1, g2 in itertools.combinations(list(group['StockCode']), 2)`` --- цикл, пробегающий пары различных элементов (сочетания по 2) из списка товаров из заданной группы.\n"
   ]
  },
  {
   "cell_type": "code",
   "execution_count": null,
   "metadata": {
    "collapsed": true,
    "deletable": false,
    "nbgrader": {
     "checksum": "54ef5edcbeda3b48d4e5d3d82cd7fbe6",
     "grade": false,
     "grade_id": "cell-9ef393d87e5eb871",
     "locked": false,
     "schema_version": 1,
     "solution": true
    }
   },
   "outputs": [],
   "source": [
    "import scipy.sparse as sps\n",
    "import itertools\n",
    "\n",
    "def CreateMatrix(data):\n",
    "    '''\n",
    "    Ввод\n",
    "    -----\n",
    "    receipts: структура pandas.DataFrame\n",
    "    \n",
    "    Вывод\n",
    "    ------\n",
    "    res: разреженная матрица\n",
    "    '''\n",
    "    # YOUR CODE HERE\n",
    "    raise NotImplementedError()\n",
    "    return res"
   ]
  },
  {
   "cell_type": "markdown",
   "metadata": {
    "deletable": false,
    "editable": false,
    "nbgrader": {
     "checksum": "94fb5513e6265d562ca85e4e41a7a644",
     "grade": false,
     "grade_id": "cell-6cbc8e7ae3337332",
     "locked": true,
     "schema_version": 1,
     "solution": false
    }
   },
   "source": [
    "Испытаем то, что у вас получилось:"
   ]
  },
  {
   "cell_type": "code",
   "execution_count": null,
   "metadata": {
    "collapsed": true,
    "deletable": false,
    "editable": false,
    "nbgrader": {
     "checksum": "84def1cb3fab205a9a4e64e19dac75f4",
     "grade": true,
     "grade_id": "cell-fc2307aac9695644",
     "locked": true,
     "points": 0.5,
     "schema_version": 1,
     "solution": false
    }
   },
   "outputs": [],
   "source": [
    "my_matrix = CreateMatrix(receipts)\n"
   ]
  },
  {
   "cell_type": "markdown",
   "metadata": {
    "collapsed": true,
    "deletable": false,
    "editable": false,
    "nbgrader": {
     "checksum": "1ec845c49e2ba7402bb2ff36ab4dcf64",
     "grade": false,
     "grade_id": "cell-70bb97ef2cc8e634",
     "locked": true,
     "schema_version": 1,
     "solution": false
    }
   },
   "source": [
    "А теперь с помощью созданной вами матрицы ответьте на несколько вопросов:\n",
    "\n",
    "1) Какая пара товаров была куплена вместе наибольшее число раз? Пожалуйста, в качестве ответа укажите не id, а названия из столбца ``Descriptions``.\n",
    "\n",
    "2) Что чаще всего покупали вместе с ``KNITTED UNION FLAG HOT WATER BOTTLE``?\n",
    "\n",
    "В вашем ноутбуке должно быть продемонстрировано, как вы это находите с помощью матрицы!"
   ]
  },
  {
   "cell_type": "markdown",
   "metadata": {
    "collapsed": true,
    "deletable": false,
    "nbgrader": {
     "checksum": "4dfaae984297bec079b4405885339a8d",
     "grade": true,
     "grade_id": "cell-dafbb49231695036",
     "locked": false,
     "points": 1,
     "schema_version": 1,
     "solution": true
    }
   },
   "source": [
    "YOUR ANSWER HERE"
   ]
  },
  {
   "cell_type": "markdown",
   "metadata": {
    "collapsed": true,
    "deletable": false,
    "editable": false,
    "nbgrader": {
     "checksum": "06107319bcbcb1ff0663ef52e08d6d24",
     "grade": false,
     "grade_id": "cell-e2fbc77f68805d48",
     "locked": true,
     "schema_version": 1,
     "solution": false
    }
   },
   "source": [
    "## Часть 4. Итерационные методы\n",
    "\n",
    "В этом задании вам предлагается поработать с итеративными методами решения систем уравнений.\n",
    "\n",
    "Соответствующие функции реализованы в пакете `scipy.sparse.linalg` (http://docs.scipy.org/doc/scipy-0.14.0/reference/sparse.linalg.html). Пожалуйста, читайте документацию перед их применением!\n",
    "\n",
    "В этом задании вам предстоит поближе познакомиться с одним из двух итеративных методов:\n",
    "\n",
    "1. **(L)GMRES** (мы настоятельно рекомендуем использовать оптимизированную функцию `scipy.sparse.linalg.lgmres`, даже если вам нужен обыкновенный **GMRES**)\n",
    "\n",
    "2. **CG** (вызывается функцией `scipy.sparse.linalg.cg`)\n",
    "\n",
    "*Замечания*:\n",
    "1. Функции `scipy.sparse.linalg.lgmres` и `scipy.sparse.linalg.cs` устроены так, что могут решать уравнения только с векторной правой частью.\n",
    "2. Внимательно ознакомьтесь с параметрами (у функции `scipy.sparse.linalg.lgmres` их очень много) и обратите внимание на формат вывода функций.\n",
    "3. Вы можете захотеть выводить/сохранять что-нибудь после каждой итерации. Для этого существует параметр `callback`: это функция с сигнатурой `callback(xk)`, вызываемая на каждой итерации. Её аргумент `xk` - это текущее приближение $x_k$. Вот пример вызова функции `lgmres`, печатающей норму текущего приближения:\n",
    "\n",
    "```{python}\n",
    "x = spla.gmres(A, b, callback=lambda xk: print(sla.norm(xk)))\n",
    "```\n",
    "\n",
    "Если вы захотите что-нибудь сохранять по ходу дела, логичнее использовать для этого класс. Ниже приводим пример класса, считающего число итераций и выводящего (если указан флаг `disp`) номер каждой итерации на печать, а также запоминающего все промежуточные приближения (не делайте так для больших систем! вам может не хватить памяти):\n",
    "\n",
    "```{python}\n",
    "class iterative_counter(object):\n",
    "    def __init__(self, disp=True):\n",
    "        self._disp = disp\n",
    "        self.niter = 0\n",
    "        self.all_x = [] # Please discard this if you solve large systems!!!\n",
    "        \n",
    "    def __call__(self, xk=None):\n",
    "        self.niter += 1\n",
    "        self.all_x.append(xk) # Please discard this if you solve large systems!!!\n",
    "        if self._disp:\n",
    "            print('iter %3i' % (self.niter))\n",
    "            \n",
    "#my_counter = gmres_counter() # We need to create an instance of the class\n",
    "my_counter = iterative_counter()\n",
    "x = spla.gmres(A, b, callback=my_counter)\n",
    "\n",
    "print(my_counter.niter) # Will print total number of iterations\n",
    "```"
   ]
  },
  {
   "cell_type": "markdown",
   "metadata": {},
   "source": [
    "**Задание 4.1 (3 балла)** Довольно игр! Пора решать большие системы. Загрузите матрицу из файла `large_system.mtx` (она симметричная и положительно определённая) и сгенерируйте случайную правую часть. Решите систему с помощью функции `scipy.sparse.linalg.spsolve` (сильно оптимизированный \"точный\" решатель) и с помощью одного из двух итеративных методов `LGMRES` и `CG`. Выберите любой из них. Сравните скорость работы этих методов и затраты оперативной памяти.\n",
    "\n",
    "Постарайтесь обогнать функцию `spsolve`, применяя предобуславливание с помощью одной итерации метода Якоби или с помощью неполного LU-разложения. Для ILU постарайтесь подобрать оптимальные значения коэффициентов `fill_factor` и `drop_tol`. Не забудьте учесть время подсчёта предобуславливателя.\n",
    "\n",
    "*Замечание 1.* Скорость работы итеративных методов можно сильно \"улучшить\", подкрутив параметр `maxiter`. При этом, конечно, качество получаемого решения будет очень скверным, и мы за это хороших оценок не поставим) Старайтесь настраивать `maxiter` так, чтобы метод либо успел сойтись, либо была достигнута пристойная точность. Здесь, конечно, не идёт речь о ситуациях, когда у вас нет надежды, что метод вообще сойдётся.\n",
    "\n",
    "*Замечание 2.* Если матрица-предобуславливатель $P$ не совсем уж тривиальная, не надо её обращать и умножать на исходную матрицу!\n",
    "\n",
    "В каждом из итеративных методов можно включить предобуславливание с помощью параметра `M`. В качестве этого параметра нужно передать либо матрицу $P^{-1}$, либо **линейный оператор**, осуществляющий умножение вектора на $P^{-1}$. По понятным причинам второе гораздо правильнее. Делается это следующим образом. Например, если вы хотите ввести предобуславливание с конкретной матрицей $P$ для решения системы $Ax = b$:\n",
    "\n",
    "```{python}\n",
    "M = spla.LinearOperator(A.shape, lambda x: spla.spsolve(P, x))\n",
    "\n",
    "x = spla.lgmres(A, b, M=M)\n",
    "```\n",
    "\n",
    "А вот как это работает для неполного LU-разложения:\n",
    "\n",
    "```{python}\n",
    "my_ILU = spla.spilu(A, '''Add your parameters here''')\n",
    "M = spla.LinearOperator(A.shape, lambda x: my_ILU.solve(x))\n",
    "\n",
    "x = spla.lgmres(A, b, M=M)\n",
    "```\n",
    "\n",
    "Обратите внимание, что `my_ILU` --- это не просто tuple из четырёх матриц (`spilu` делает разложение вида $P_1AP_2 = LU$, где $P_i$ --- матрицы перестановок). В самом деле, как вы уже, наверное, поняли, в мире больших размерностей иметь матрицу --- это зачастую бесполезное или даже вредное занятие. Гораздо ценнее уметь быстро решать систему с этой матрицей. Поэтому `my_ILU` --- это в первую очередь не разложение (впрочем, матрицы при желании тоже можно извлечь), а оптимизированный решатель `solve`."
   ]
  },
  {
   "cell_type": "code",
   "execution_count": null,
   "metadata": {
    "collapsed": true,
    "deletable": false,
    "nbgrader": {
     "checksum": "846c1e7f0b166ad4079e6e1275daea52",
     "grade": true,
     "grade_id": "cell-c4ed50bdb6bbd183",
     "locked": false,
     "points": 3,
     "schema_version": 1,
     "solution": true
    }
   },
   "outputs": [],
   "source": [
    "Pres_Poisson.mtx\n",
    "\n"
   ]
  },
  {
   "cell_type": "markdown",
   "metadata": {
    "deletable": false,
    "editable": false,
    "nbgrader": {
     "checksum": "d23469c59c838d075327d9b53ca300f4",
     "grade": false,
     "grade_id": "cell-89d5f121c563f7a7",
     "locked": true,
     "schema_version": 1,
     "solution": false
    }
   },
   "source": [
    "## Часть 5. Матричные дифференцирования"
   ]
  },
  {
   "cell_type": "markdown",
   "metadata": {
    "deletable": false,
    "editable": false,
    "nbgrader": {
     "checksum": "649ef92d8ed6173dd27e44e88f7fa9d3",
     "grade": false,
     "grade_id": "cell-d7696fe0d7fc55f8",
     "locked": true,
     "schema_version": 1,
     "solution": false
    }
   },
   "source": [
    "**Задача 5.1 (0.5 балла)** Пусть $f$ --- функция на множестве квадратных матриц $n\\times n$, а $g$ --- функция на множестве симметричных матриц $n\\times n$, совпадающая с $f$ на своей области определения. Докажите, что\n",
    "\n",
    "$$\\frac{\\partial g}{\\partial X} = \\frac{\\partial f}{\\partial X} + \\left(\\frac{\\partial f}{\\partial X}\\right)^T -\n",
    "\\mathrm{diag}\\left(\\frac{\\partial f}{\\partial x_{11}}, \\frac{\\partial f}{\\partial x_{22}},\\ldots,\n",
    "\\frac{\\partial f}{\\partial x_{nn}}\\right)$$"
   ]
  },
  {
   "cell_type": "markdown",
   "metadata": {
    "deletable": false,
    "nbgrader": {
     "checksum": "9ecffcf0d11800346c591ac286751b52",
     "grade": true,
     "grade_id": "cell-11a9ad2dec4ef7a6",
     "locked": false,
     "points": 0.5,
     "schema_version": 1,
     "solution": true
    }
   },
   "source": [
    "В случае $i \\not = j$ получаем $\\Big(\\frac{\\partial g}{\\partial X}\\Big)_{i j} = \\sum\\limits_{n, m}\\frac{\\partial g}{\\partial X_{n m}}\\frac{\\partial X_{n m}}{\\partial X_{ij}} = \\frac{\\partial g}{\\partial X_{i j}} + \\frac{\\partial g}{\\partial X_{ji}}$, то есть $\\frac{\\partial g}{\\partial X} = \\frac{\\partial f}{\\partial X} + \\left(\\frac{\\partial f}{\\partial X}\\right)^T$\n",
    "\n",
    "При $i = j$ симметричность матрицы не играет роль: $\\Big(\\frac{\\partial g}{\\partial X}\\Big)_{ii} =  \\frac{\\partial g}{\\partial X_{ii}}$, то есть $\\frac{\\partial g}{\\partial X} = \\frac{\\partial f}{\\partial X}$\n",
    "\n",
    "Объединяя эти результаты получаем необходимое равенство\n"
   ]
  },
  {
   "cell_type": "markdown",
   "metadata": {
    "deletable": false,
    "editable": false,
    "nbgrader": {
     "checksum": "0ea848b9b6634df6f631f4bb15811392",
     "grade": false,
     "grade_id": "cell-0ba7fe235ce1ea1f",
     "locked": true,
     "schema_version": 1,
     "solution": false
    }
   },
   "source": [
    "**Задача 5.2 (0.5 балла)** Найдите производную\n",
    "\n",
    "$$\\frac{\\partial\\mathrm{tr}\\left(AX^2BX^{-T}\\right)}{\\partial X}$$"
   ]
  },
  {
   "cell_type": "markdown",
   "metadata": {
    "deletable": false,
    "nbgrader": {
     "checksum": "b4e6632691f0e0f8c8b8122aab00f420",
     "grade": true,
     "grade_id": "cell-9ab94204487207a9",
     "locked": false,
     "points": 0.5,
     "schema_version": 1,
     "solution": true
    }
   },
   "source": [
    "$$\\frac{\\partial\\mathrm{tr}\\left(AX^2BX^{-T}\\right)}{\\partial X_{ij}} = \n",
    "  \\frac{\\partial\\mathrm{tr}\\left(XBX^{-T}AX\\right)}{\\partial X_{ij}} = \n",
    "  \\mathrm{tr}\\left(\\frac{\\partial X}{\\partial X_{ij}}BX^{-T}AX\\right) +\n",
    "  \\mathrm{tr}\\left(XBX^{-T}A\\frac{\\partial X}{\\partial X_{ij}}\\right) +\n",
    "  \\mathrm{tr}\\left(XB\\frac{\\partial X^{-T}}{\\partial X_{ij}}AX\\right) = $$\n",
    "$$(BX^{-T}AX)_{ji} + (XBX^{-T}A)_{ji} - \n",
    "  \\mathrm{tr}\\left(XB(X^{-1}U_{ij}X^{-1})^TAX\\right) = \n",
    "  (BX^{-T}AX)_{ji} + (XBX^{-T}A)_{ji} - \n",
    "  \\mathrm{tr}\\left(U_{ji}X^{-T}AX^2BX^{-T}\\right) = $$\n",
    "$$\n",
    "  (BX^{-T}AX)_{ji} + (XBX^{-T}A)_{ji} - (X^{-T}AX^2BX^{-T})_{ij}\n",
    "  $$\n",
    "Ответ:\n",
    "$$\\frac{\\partial\\mathrm{tr}\\left(AX^2BX^{-T}\\right)}{\\partial X} = \\left(BX^{-T}AX + XBX^{-T}A\\right)^T - X^{-T}AX^2BX^{-T}$$"
   ]
  },
  {
   "cell_type": "markdown",
   "metadata": {
    "deletable": false,
    "editable": false,
    "nbgrader": {
     "checksum": "edd9742418be35c9d15222d080f89792",
     "grade": false,
     "grade_id": "cell-c1b163c10e290daf",
     "locked": true,
     "schema_version": 1,
     "solution": false
    }
   },
   "source": [
    "**Задача 5.3 (0.5 балла)** Найдите производную\n",
    "\n",
    "$$\\frac{\\partial\\ln{\\det\\left(X^TAX\\right)}}{\\partial X}$$"
   ]
  },
  {
   "cell_type": "markdown",
   "metadata": {
    "deletable": false,
    "nbgrader": {
     "checksum": "00b7861417531ae080be7e48855dca08",
     "grade": true,
     "grade_id": "cell-7954a18e982d0818",
     "locked": false,
     "points": 0.5,
     "schema_version": 1,
     "solution": true
    }
   },
   "source": [
    "$$\\frac{\\partial\\ln{\\det\\left(X^TAX\\right)}}{\\partial X_{ij}} = \\mathrm{tr}\\left(\\frac{\\partial\\ln{\\det\\left(X^TAX\\right)}}{\\partial\\left(X^TAX\\right)} \\cdot \\frac{\\partial\\left(X^TAX\\right)}{\\partial X_{ij}}\\right) = \\mathrm{tr}\\left(\\left(X^TAX\\right)^{-1} \\left(U_{ji}AX + X^TAU_{ji}\\right)\\right) = \\left(AX(X^TAX)^{-1}\\right)_{ij} + \\left((X^TAX)^{-1}X^TA\\right)_{ji}$$\n",
    "Ответ:\n",
    "$$\\frac{\\partial\\ln{\\det\\left(X^TAX\\right)}}{\\partial X} = AX(X^TAX)^{-1} + A^TX(X^TAX)^{-T}$$"
   ]
  },
  {
   "cell_type": "markdown",
   "metadata": {
    "collapsed": true,
    "deletable": false,
    "editable": false,
    "nbgrader": {
     "checksum": "910b08d99ed3c19396ae1b956baa7c06",
     "grade": false,
     "grade_id": "cell-19c3a2f6640cd10c",
     "locked": true,
     "schema_version": 1,
     "solution": false
    }
   },
   "source": [
    "**Задача 5.4 (1 балл)** Допустим, что векторы $y_1,\\ldots,y_m$ выбраны из многомерного нормального распределения с неизвестными вектором средних $m$ и ковариационной матрицей $\\Sigma$. В этом задании вам нужно будет найти оценки максимального правдоподобия $\\hat{m}$ и $\\hat{\\Sigma}$.\n",
    "\n",
    "Напомним вкратце, что такое оценка максимального правдоподобия в случае непрерывного распределения. Пусть $p(x|\\theta_1,\\ldots,\\theta_k)$ --- функция плотности распределения с неизвестными нам параметрами $\\theta_1,\\ldots,\\theta_k$, а $y_1,\\ldots,y_m$ --- выборка из этого распределения. \\textit{Функцией правдоподобия} назовём произведение $L(y_1\\ldots,y_m|\\theta_1,\\ldots,\\theta_k) := \\prod_{j=1}^kp(y_j|\\theta_1,\\ldots,\\theta_k)$; грубо говоря, это произведение показывает, насколько правдоподобно появление данной выборки $y_1,\\ldots,y_m$ при данных значениях параметров. В качестве оценки максимального правдоподобия выбирают те значения параметров, при которых функция правдоподобия достигает максимума. При этом как правило удобнее максимизировать не саму функцию правдоподобия, а *логарифмическую функцию правдоподобия* $l(y_1\\ldots,y_m|\\theta_1,\\ldots,\\theta_k) = \\ln{L(y_1\\ldots,y_m|\\theta_1,\\ldots,\\theta_k)}$.\n",
    "\n",
    "*Подсказка*. Постарайтесь превратить $\\sum_i(x_i - m)^T\\Sigma^{-1}(x_i - m)$ в функцию от матрицы $X$, столбцами которой являются векторы $x_i$."
   ]
  },
  {
   "cell_type": "markdown",
   "metadata": {
    "collapsed": true,
    "deletable": false,
    "nbgrader": {
     "checksum": "a1bd6b27f2c61f29022c6b9a31c6db06",
     "grade": true,
     "grade_id": "cell-98a7650be5a53816",
     "locked": false,
     "points": 1,
     "schema_version": 1,
     "solution": true
    }
   },
   "source": [
    "YOUR ANSWER HERE"
   ]
  },
  {
   "cell_type": "markdown",
   "metadata": {
    "deletable": false,
    "editable": false,
    "nbgrader": {
     "checksum": "a342a932e13a553d2dab8c13e36876e3",
     "grade": false,
     "grade_id": "cell-dd93143675dc1aa5",
     "locked": true,
     "schema_version": 1,
     "solution": false
    }
   },
   "source": [
    "## Часть 6. Линейная Алгебра и Машинное Обучение  "
   ]
  },
  {
   "cell_type": "markdown",
   "metadata": {
    "deletable": false,
    "editable": false,
    "nbgrader": {
     "checksum": "32c1d00abfb3ef2c699f68624c20abcf",
     "grade": false,
     "grade_id": "cell-477c6c3ab2de15f1",
     "locked": true,
     "schema_version": 1,
     "solution": false
    }
   },
   "source": [
    "Хорошее знание линейной алгебры очень важно в современном машинном обучении. В этом задании Вам предлагается реализовать метод машинного обучения применив знания матричного дифференцирования и итерационных методов решения систем уравнений :) \n",
    "\n",
    "В области машинного обучения одним из самых популярных методов бинарной классификации (предсказываем один из двух классов, $+1$ или $-1$ для каждого объекта) является логистическая регрессия. Она выводится из метода максимального правдоподобия, который приводит к следующей задаче оптимизации:\n",
    "\n",
    "$$ L(w, X, y) = \\frac1{N}\\sum_{i = 0}^{N} log (1 + exp(-y_ix_i^Tw)) + \\frac{C}{2} ||w||^2 \\longrightarrow \\min_w$$\n",
    "$$X \\in R^{N \\times M}, x \\in R^{M}, w \\in R^{M}, y \\in \\{-1, 1\\}^N$$\n",
    "\n",
    "Здесь $X$ - матрица объекты-признаки для обучающей выборки (по строкам объекты, по столбцам признаки), а $y$ - вектор ответов. Коэффициент $C$, вообще говоря, нужно подбирать отдельно, поскольку разные его значения приводят к разным решениям задачи оптимизации. Но так как это уже никакого отношения не имеет к линейной алгебре, то в этой задаче мы положим $\\mathbf{C = 10^{-4}}$\n",
    "\n",
    "Когда мы решили задачу оптимизации (нашли $w$), мы принимаем решение о том, к какому классу относится объект по правилу $y(x) = sign(x^Tw)$. В данной части вам необходимо применить методы линейной алгебры для решения этой задачи. \n",
    "\n",
    "План у нас такой:\n",
    "- Вычислить градиент функции $L$, эффективно запрограммировать и проверить себя\n",
    "- Вычислить гессиан функции $L$,  эффективно запрограммировать и проверить себя\n",
    "- Воспользоваться методом второго порядка для оптимизации \n",
    "- Внутри метода оптимизации вместо обращения матрицы, решать систему уравнений с помощью итерационного метода\n",
    "- Исследовать эффективность различных методов решения системы уравнений на реальных данных"
   ]
  },
  {
   "cell_type": "code",
   "execution_count": null,
   "metadata": {
    "collapsed": true,
    "deletable": false,
    "editable": false,
    "nbgrader": {
     "checksum": "6db217fd6f45e40fef8c954267f6a421",
     "grade": false,
     "grade_id": "cell-0c8a82eb9a5ac49a",
     "locked": true,
     "schema_version": 1,
     "solution": false
    }
   },
   "outputs": [],
   "source": [
    "import numpy as np\n",
    "import scipy.linalg as sla\n",
    "import scipy.sparse as sps\n",
    "import scipy.sparse.linalg as spla\n",
    "from scipy import special\n",
    "import matplotlib.pyplot as plt\n",
    "%matplotlib inline"
   ]
  },
  {
   "cell_type": "markdown",
   "metadata": {
    "deletable": false,
    "editable": false,
    "nbgrader": {
     "checksum": "b5c81cf2a00ae295ca88ef539ca4f997",
     "grade": false,
     "grade_id": "cell-8f18d42d93297a38",
     "locked": true,
     "schema_version": 1,
     "solution": false
    }
   },
   "source": [
    "Для тестирования правильности вычисления сгенерируем аргументы небольшого размера"
   ]
  },
  {
   "cell_type": "code",
   "execution_count": null,
   "metadata": {
    "collapsed": true,
    "deletable": false,
    "editable": false,
    "nbgrader": {
     "checksum": "6d4ae8f3987bbc37efb2d298d5237433",
     "grade": false,
     "grade_id": "cell-a174316115ffacc3",
     "locked": true,
     "schema_version": 1,
     "solution": false
    }
   },
   "outputs": [],
   "source": [
    "w, X, y = np.random.random(10), np.random.random((11, 10)), 2*(np.random.randint(0, 2, 11)-0.5)"
   ]
  },
  {
   "cell_type": "markdown",
   "metadata": {
    "deletable": false,
    "editable": false,
    "nbgrader": {
     "checksum": "3f1deceb06a491a6d23693b013f28537",
     "grade": false,
     "grade_id": "cell-8cd372ee96a6e5c6",
     "locked": true,
     "schema_version": 1,
     "solution": false
    }
   },
   "source": [
    "**Задача 6.0 (0,5 балла)**\n",
    "\n",
    "Запрограммируйте вычисление функции L, используйте только матричные операции (внутри не должно быть циклов).\n",
    "\n",
    "**Замечание**: Нигде в промежуточных вычислениях не стоит вычислять значение $exp(−y_ix^Tw)$, иначе может произойти переполнение. Вместо этого следует напрямую вычислять необходимые величины с помощью специализированных для этого функций: `np.logaddexp` для `ln(1 + exp(·))` и `sp.special.expit` для `1/(1 + exp(-(·)))`."
   ]
  },
  {
   "cell_type": "code",
   "execution_count": null,
   "metadata": {
    "collapsed": true,
    "deletable": false,
    "nbgrader": {
     "checksum": "e5c9b868456f7d479d206e97e970bd3f",
     "grade": false,
     "grade_id": "cell-6bceac5eb9fa7177",
     "locked": false,
     "schema_version": 1,
     "solution": true
    }
   },
   "outputs": [],
   "source": [
    "def logistic(w, X, y):\n",
    "    '''\n",
    "        logistic(w, X, y) вычисляет функцию качества лог регрессии L(w, X, y)\n",
    "        \n",
    "        w: np.array размера (M,)\n",
    "        X: np.array размера (N, M)\n",
    "        y: np.array размера (M,)\n",
    "        \n",
    "        funcw: np.float \n",
    "    '''\n",
    "    # YOUR CODE HERE\n",
    "    raise NotImplementedError()"
   ]
  },
  {
   "cell_type": "code",
   "execution_count": null,
   "metadata": {
    "collapsed": true,
    "deletable": false,
    "editable": false,
    "nbgrader": {
     "checksum": "b1c64f6a5e3ad930e8d561acca23518c",
     "grade": true,
     "grade_id": "cell-432552d7cde48e96",
     "locked": true,
     "points": 0.5,
     "schema_version": 1,
     "solution": false
    }
   },
   "outputs": [],
   "source": [
    "print(logistic(w, X, y))\n"
   ]
  },
  {
   "cell_type": "markdown",
   "metadata": {
    "deletable": false,
    "editable": false,
    "nbgrader": {
     "checksum": "c9727e73236402c1c104ba878431313e",
     "grade": false,
     "grade_id": "cell-93a0240084167fd7",
     "locked": true,
     "schema_version": 1,
     "solution": false
    }
   },
   "source": [
    "**Задача 6.1 (1 балл)**\n",
    "\n",
    "Найдите градиент функции $\\nabla_w L(w, X, y)$, запишите в терминах матричных операций.\n",
    "\n",
    "Эффективно запрограммируйте вычисление градиента (опять же, только матричные операции!)\n",
    "\n",
    "Обратите внимание на то, что для разреженных матриц может понадобиться написать немного другой код."
   ]
  },
  {
   "cell_type": "markdown",
   "metadata": {},
   "source": [
    "---\n",
    "*Вычислите градиент здесь*"
   ]
  },
  {
   "cell_type": "code",
   "execution_count": null,
   "metadata": {
    "collapsed": true,
    "deletable": false,
    "nbgrader": {
     "checksum": "d35580cafcbbe5b61974b074981460c7",
     "grade": false,
     "grade_id": "cell-ecf1883dfb814b09",
     "locked": false,
     "schema_version": 1,
     "solution": true
    }
   },
   "outputs": [],
   "source": [
    "def logistic_grad(w, X, y):\n",
    "    '''\n",
    "        logistic_grad(w, X, y) вычисляет градиент функции качества лог регрессии dL(w, X, y)/dw\n",
    "        \n",
    "        w: np.array размера (M,)\n",
    "        X: np.array размера (N, M)\n",
    "        y: np.array размера (M,)\n",
    "        \n",
    "        gradw: np.array размера (M,)\n",
    "    '''\n",
    "    # YOUR CODE HERE\n",
    "    raise NotImplementedError()"
   ]
  },
  {
   "cell_type": "code",
   "execution_count": null,
   "metadata": {
    "collapsed": true,
    "deletable": false,
    "editable": false,
    "nbgrader": {
     "checksum": "27a545b61620f808e5165c81ad7aa6fe",
     "grade": false,
     "grade_id": "cell-4bff26c1beb90ab6",
     "locked": true,
     "schema_version": 1,
     "solution": false
    }
   },
   "outputs": [],
   "source": [
    "assert(logistic_grad(w, X, y).shape == w.shape)"
   ]
  },
  {
   "cell_type": "markdown",
   "metadata": {
    "deletable": false,
    "editable": false,
    "nbgrader": {
     "checksum": "6885dfa7f4501af2d1e5320c0bbde0da",
     "grade": false,
     "grade_id": "cell-3e619b5e238e6053",
     "locked": true,
     "schema_version": 1,
     "solution": false
    }
   },
   "source": [
    "Очень часто при подсчёте градиента допускаются ошибки, проверьте правильность реализации подсчёта градиента с помощью конечных разностей. \n",
    "\n",
    "$$[\\nabla f(x)]_i \\approx \\frac{f(x + \\epsilon \\cdot e_i) - f(x)}{\\epsilon}~~~~$$\n",
    "\n",
    "где $e_i = (0, ... , 0, 1, 0, ..., 0)$ - i-й базисный орт, $\\epsilon \\approx 10^{-8}$\n",
    "\n",
    "Ваша функция должна корректно работать хотя бы с обыкновенными (не разреженными матрицами)"
   ]
  },
  {
   "cell_type": "code",
   "execution_count": null,
   "metadata": {
    "collapsed": true,
    "deletable": false,
    "nbgrader": {
     "checksum": "0bf219813fb111ba285267d137481a33",
     "grade": false,
     "grade_id": "cell-e0eacec64b66dde1",
     "locked": false,
     "schema_version": 1,
     "solution": true
    }
   },
   "outputs": [],
   "source": [
    "def max_error(a, b): \n",
    "    return np.max(np.abs(a-b))\n",
    "\n",
    "def grad_finite_diff(func, x, eps=1e-8):\n",
    "    '''\n",
    "        w: np.array размера (M,)\n",
    "        func: скалярная функция от векторного аргумента w, func(w) =  число\n",
    "        eps: np.float константа для проверки градиента\n",
    "        \n",
    "        dnum: np.array размера (M,), численно посчитанный градиент\n",
    "    '''\n",
    "    x, fval, dnum = x.astype(np.float64), func(x), np.zeros_like(x)\n",
    "\n",
    "    # YOUR CODE HERE\n",
    "    raise NotImplementedError()"
   ]
  },
  {
   "cell_type": "code",
   "execution_count": null,
   "metadata": {
    "collapsed": true,
    "deletable": false,
    "editable": false,
    "nbgrader": {
     "checksum": "529b2a784821a0469840bfa29a4491bb",
     "grade": true,
     "grade_id": "cell-0d58cf96fc300908",
     "locked": true,
     "points": 1,
     "schema_version": 1,
     "solution": false
    }
   },
   "outputs": [],
   "source": [
    "mat_grad = logistic_grad(w, X, y)\n",
    "num_grad = grad_finite_diff(lambda w: logistic(w, X, y), w)\n",
    "\n",
    "err = max_error(mat_grad, num_grad)\n",
    "print('err = ', err, 'ok' if err < 1e-6 else 'ошибка очень большая =(')\n"
   ]
  },
  {
   "cell_type": "markdown",
   "metadata": {},
   "source": [
    "**Задача 6.2 (1 балл)**\n",
    "\n",
    "Для некоторых задач оптимизации очень удобно использовать гессиан. \n",
    "\n",
    "Вычислите гессиан для функции L, запишите ответ в терминах матричных операций. \n",
    "\n",
    "**Упражнение**: Можно ли что-то сказать про знакоопределенность этой матрицы?\n",
    "    \n",
    "Эффективно запрограммируйте вычисление гессиана. Не забудьте написать отдельную рутину для разреженных матриц."
   ]
  },
  {
   "cell_type": "markdown",
   "metadata": {},
   "source": [
    "---\n",
    "*Вычислите гессиан здесь*"
   ]
  },
  {
   "cell_type": "code",
   "execution_count": null,
   "metadata": {
    "collapsed": true,
    "deletable": false,
    "nbgrader": {
     "checksum": "ac326dd5edd95d9a6fbd0714ce4aabe0",
     "grade": false,
     "grade_id": "cell-a5f8e7199234b6dd",
     "locked": false,
     "schema_version": 1,
     "solution": true
    }
   },
   "outputs": [],
   "source": [
    "def logistic_hess(w, X, y):\n",
    "    '''\n",
    "        logistic_hess(w, X, y) вычисляет гессиан функции качества лог регрессии dL(w, X, y)/dw\n",
    "        \n",
    "        w: np.array размера (M,)\n",
    "        X: np.array размера (N, M)\n",
    "        y: np.array размера (M,)\n",
    "        \n",
    "        hessw: np.array размера (M, M)\n",
    "    '''\n",
    "    \n",
    "    #hessw = # Гессиан dL/dw_iw_j\n",
    "    # YOUR CODE HERE\n",
    "    raise NotImplementedError()"
   ]
  },
  {
   "cell_type": "code",
   "execution_count": null,
   "metadata": {
    "collapsed": true,
    "deletable": false,
    "editable": false,
    "nbgrader": {
     "checksum": "df464f34c44f694b330e9b25a70ddac0",
     "grade": false,
     "grade_id": "cell-98f98e82458aaefb",
     "locked": true,
     "schema_version": 1,
     "solution": false
    }
   },
   "outputs": [],
   "source": [
    "assert(logistic_hess(w, X, y).shape == (w.shape[0], w.shape[0]))"
   ]
  },
  {
   "cell_type": "markdown",
   "metadata": {
    "deletable": false,
    "editable": false,
    "nbgrader": {
     "checksum": "9794a65b60f9d0c598b2cba183939c32",
     "grade": false,
     "grade_id": "cell-1117b31f41db4046",
     "locked": true,
     "schema_version": 1,
     "solution": false
    }
   },
   "source": [
    "Теперь проверим правильность реализации подсчёта гессиана.\n",
    "\n",
    "Для гессиана проверка выглядит похожим образом\n",
    "\n",
    "$$[\\nabla^2 f(x)]_{ij} \\approx \\frac{f(x + \\epsilon \\cdot e_i + \\epsilon \\cdot e_j) -f(x + \\epsilon \\cdot e_i) - f(x + \\epsilon \\cdot e_j)+ f(x)}{\\epsilon^2}~~~~~~~~~~~~~~~~~~~~~$$\n",
    "\n",
    "где $e_i = (0, ... , 0, 1, 0, ..., 0)$ - i-й базисный орт, $\\epsilon \\approx 10^{-4}$"
   ]
  },
  {
   "cell_type": "code",
   "execution_count": null,
   "metadata": {
    "collapsed": true,
    "deletable": false,
    "nbgrader": {
     "checksum": "64580d0cf28968c5ac88ea655dc0ee95",
     "grade": false,
     "grade_id": "cell-2b569c7fcb37ea31",
     "locked": false,
     "schema_version": 1,
     "solution": true
    }
   },
   "outputs": [],
   "source": [
    "def hess_finite_diff(func, w, eps=1e-4):\n",
    "    '''\n",
    "        w: np.array размера (M,)\n",
    "        func: скалярная функция от векторного аргумента w, func(w) =  число\n",
    "        eps: np.float константа для проверки градиента\n",
    "        \n",
    "        dnum: np.array размера (M,), численно посчитанный градиент\n",
    "    '''\n",
    "    w, fval, dnum = w.astype(np.float64), func(w).astype(np.float64), np.zeros((w.size, w.size), dtype=np.float64)\n",
    "    #dnum = # Вычислите численный гессиан d func/dw_iw_j для всех i, j\n",
    "    # YOUR CODE HERE\n",
    "    raise NotImplementedError()"
   ]
  },
  {
   "cell_type": "code",
   "execution_count": null,
   "metadata": {
    "collapsed": true,
    "deletable": false,
    "editable": false,
    "nbgrader": {
     "checksum": "f56a52953d6aa5e79df88427b7d11142",
     "grade": true,
     "grade_id": "cell-fe07f057cc5f7a4e",
     "locked": true,
     "points": 1,
     "schema_version": 1,
     "solution": false
    }
   },
   "outputs": [],
   "source": [
    "mat_grad = logistic_hess(w, X, y)\n",
    "num_grad = hess_finite_diff(lambda w: logistic(w, X, y), w)\n",
    "\n",
    "err = max_error(mat_grad, num_grad)\n",
    "\n",
    "print('err = ', err)\n",
    "print('ok' if max_error(mat_grad, num_grad) < 1e-4 else 'ошибка оч большая =(')\n"
   ]
  },
  {
   "cell_type": "markdown",
   "metadata": {
    "deletable": false,
    "editable": false,
    "nbgrader": {
     "checksum": "65173562c542c436a1e340a27e2aa5a6",
     "grade": false,
     "grade_id": "cell-f93f70975f9b268c",
     "locked": true,
     "schema_version": 1,
     "solution": false
    }
   },
   "source": [
    "**Задача 6.3 (3+ баллов)**\n",
    "\n",
    "Так как наша задача оптимизации оказывается выпуклой (см. упражнение про знакоопределённость Гессиана), её можно эффективно решать методом второго порядка, например, методом Ньютона. Напомним, что в общем виде метод Ньютона для решения уравнения (системы уравнений) $H(z) = 0$ имеет вид\n",
    "\n",
    "$$z_{k+1} = w_k - \\mathbf{\\alpha_k}\\left(\\nabla H(z_k)\\right)^{-1}H(z_k)$$\n",
    "\n",
    "Множитель $a_k$ не вполне каноничен, но его введение может ускорять сходимость.\n",
    "\n",
    "Решение задачи оптимизации $f(w) \\rightarrow \\min\\limits_w$ сводится к нахождению нулей градиента $\\nabla f(w) = 0$. Получаем следующий итеративный процесс:\n",
    "\n",
    "$$w_{k + 1} = w_k - \\alpha_k\\left(\\nabla^2 f(x_k)\\right)^{-1} \\cdot \\nabla f(x_k) =: w_k - \\alpha_k d_k$$\n",
    "\n",
    "Иными словами, основная идея метода Ньютона -- на шаге $k$ выбрать направление спуска $d_k$ с помощью градиента и гессиана, определить длину шага $\\alpha_k$ по направлению $d_k$, и повторять сей процесс до сходимости (в выпуклой задаче можно считать, что это 20 итераций).\n",
    "\n",
    "В методе Ньютона каждое следующее направление оптимизации выбирается как \n",
    "\n",
    "$$d_{k+1} = -(\\nabla^2 f(x_k))^{-1} \\cdot \\nabla f(x_k)$$\n",
    "\n",
    "но, вот беда, операция поиска обратной матрицы очень дорогая и не устойчивая, поэтому будем искать $d_{k+1}$ как решение системы уравнений\n",
    "\n",
    "$$\\nabla^2 f(x_k) d_{k+1} = -\\nabla f(x_k)$$\n",
    "\n",
    "Первым делом вам нужно будет реализовать метод Ньютона.\n",
    "\n",
    "*Замечание*: Если вы хорошо реализовали вычисление градиента и гессиана, то в функции `newton` вам не понадобилось отдельно обрабатывать разреженные матрицы."
   ]
  },
  {
   "cell_type": "code",
   "execution_count": null,
   "metadata": {
    "collapsed": true,
    "deletable": false,
    "nbgrader": {
     "checksum": "028fafd456c8b2f5337ce2a965225bed",
     "grade": false,
     "grade_id": "cell-c83bd4e579b7a561",
     "locked": false,
     "schema_version": 1,
     "solution": true
    }
   },
   "outputs": [],
   "source": [
    "from scipy.optimize.linesearch import line_search_armijo\n",
    "\n",
    "def newton(func, grad, hess, x0, solver, max_iter=20):\n",
    "    '''\n",
    "        func: скалярная функция от вектора размера shape(w0)\n",
    "        grad: функция вычисляющая градиент функции func\n",
    "        hess: функция вычисляющая гессиан  функции func\n",
    "        \n",
    "        w0: вектор, первая точка в процессе оптимизации \n",
    "        solver: функция от двух аргументов A, b находит решение системы Ax=b\n",
    "        max_iter: количество итераций метода\n",
    "    '''\n",
    "    \n",
    "    x, fvals, ngrads = x0.copy().astype(np.float), [], []\n",
    "\n",
    "    for iter in range(max_iter):\n",
    "        fvalx, gradx, hessx = func(x), grad(x), hess(x)\n",
    "        '''\n",
    "        d = # Решите систему hess * x = grad \n",
    "        alpha = # Поиск шага по направлению d, с помощью быстрой одномерной оптимизации, используйте line_search_armijo\n",
    "        x = # Шаг метода по направлению d с коэффициентом alpha\n",
    "        '''\n",
    "        # YOUR CODE HERE\n",
    "        raise NotImplementedError()\n",
    "        fvals.append(fvalx)\n",
    "        ngrads.append(np.linalg.norm(gradx))\n",
    "\n",
    "    return x, fvals, ngrads"
   ]
  },
  {
   "cell_type": "code",
   "execution_count": null,
   "metadata": {
    "collapsed": true
   },
   "outputs": [],
   "source": [
    "# Пример запуска\n",
    "\n",
    "func = lambda w: logistic(w, X, y)\n",
    "grad = lambda w: logistic_grad(w, X, y)\n",
    "hess = lambda w: logistic_hess(w, X, y)\n",
    "gauss_  = lambda A, b: spla.spsolve(A, b) if sps.issparse(A) else sla.solve(A, b)\n",
    "lgmres_  = lambda A, b: spla.lgmres(A, b, tol=1e-2)[0]\n",
    "cg_  = lambda A, b: spla.cg(A, b, tol=1e-2)[0]\n",
    "\n",
    "%time w_opt, fvals, ngrads = newton(func, grad, hess, w, cg_) "
   ]
  },
  {
   "cell_type": "markdown",
   "metadata": {
    "deletable": false,
    "editable": false,
    "nbgrader": {
     "checksum": "3acecd439234c3f7ab82e3f3809cd700",
     "grade": false,
     "grade_id": "cell-d2d053d7759b4857",
     "locked": true,
     "schema_version": 1,
     "solution": false
    }
   },
   "source": [
    "В этом задании вам необходимо в зависимости от метода решения системы уравнений (гаусс или CG/GMRES) исследовать:\n",
    "- зависимость времени работы метода оптимизации от выбора метода решения системы;\n",
    "- скорость сходимости метода оптимизации в зависимости от точности решения системы уравнений (параметр `tol`);\n",
    "- какую часть времени метод тратит на решение системы уравнений и какую на вычисление гессиана и градиента.\n",
    "\n",
    "Эксперименты нужно провести на нескольких наборах данных. Рассмотрите следующие три ситуации: \n",
    "- малое число признаков d < 100\n",
    "- среднее число признаков d ~ 500 \n",
    "- большое число признаков d ~ 1000\n",
    "\n",
    "Мы будем поощрять любые дополнительные исследования, например, если вы попытаетесь проверить статистическую значимость результатов экспериментов: ведь если какой-нибудь метод показал себя лучше в одном-единственном эксперименте, то это ещё ничего не значит.\n",
    "\n",
    "**Рекомендация**: можете рассмотреть три набора данных, которые можно скачать с сайта [LIBSVM1](https://www.csie.ntu.edu.tw/~cjlin/libsvmtools/datasets/binary.html): **a9a**, **w8a** (много объектов, сравнительно немного признаков) и **colon-cancer** (в нём достаточно мало объектов, но зато гораздо больше признаков).\n",
    "\n",
    "Любой набор данных с сайта LIBSVM представляет из себя текстовый файл в формате svmlight. Чтобы считать такой текстовый файл, можно использовать функцию [load_svmlight_file](http://scikit-learn.org/stable/modules/generated/sklearn.datasets.load_svmlight_file.html) из модуля sklearn.datasets. Эта функция всегда возвращает матрицу X типа sp.sparse.csr_matrix (разреженная марица). В датасете **colon-cancer** матрица X не будет разреженной, поэтому сразу же после вызова функции load_svmlight_file следует привести X к типу np.ndarray. Это можно сделать с помощью команды X = X.toarray()."
   ]
  },
  {
   "cell_type": "markdown",
   "metadata": {
    "deletable": false,
    "nbgrader": {
     "checksum": "f51a2d9863568be1b775d751de68ae58",
     "grade": true,
     "grade_id": "cell-afb8c603ed71088e",
     "locked": false,
     "points": 4,
     "schema_version": 1,
     "solution": true
    }
   },
   "source": [
    "YOUR ANSWER HERE"
   ]
  },
  {
   "cell_type": "markdown",
   "metadata": {
    "deletable": false,
    "editable": false,
    "nbgrader": {
     "checksum": "5d6df6f70e3017f8dd2d32a3997d3b95",
     "grade": false,
     "grade_id": "cell-1b6a5224f3bfeb2c",
     "locked": true,
     "schema_version": 1,
     "solution": false
    }
   },
   "source": [
    "**Задача 6.4 (0 балов, весь код написан за Вас, но очень красивые картинки)** \n",
    "\n",
    "Давайте визуализируем наш метод, а то хочется глазами посмотреть. Просто запустите код:"
   ]
  },
  {
   "cell_type": "code",
   "execution_count": null,
   "metadata": {
    "collapsed": true,
    "deletable": false,
    "editable": false,
    "nbgrader": {
     "checksum": "e81f4df29432a5c2a5477a1a80483eb7",
     "grade": false,
     "grade_id": "cell-70450bc8d96b5c80",
     "locked": true,
     "schema_version": 1,
     "solution": false
    }
   },
   "outputs": [],
   "source": [
    "from scipy import optimize\n",
    "\n",
    "def expand(X):\n",
    "    X_ = np.zeros((X.shape[0], 6))\n",
    "    X_[:,0:2] = X\n",
    "    X_[:,2:4] = X**2\n",
    "    X_[:,4] = X[:,0] * X[:,1]\n",
    "    X_[:,5] = 1;\n",
    "    return X_\n",
    "\n",
    "def visualize(X, y, w, loss, n_iter, h=0.01):\n",
    "    x_min, x_max = X[:, 0].min() - 1, X[:, 0].max() + 1\n",
    "    y_min, y_max = X[:, 1].min() - 1, X[:, 1].max() + 1\n",
    "    xx, yy = np.meshgrid(np.arange(x_min, x_max, h), np.arange(y_min, y_max, h))\n",
    "    \n",
    "    plt.clf()\n",
    "    Z = classify(expand(np.c_[xx.ravel(), yy.ravel()]), w)\n",
    "    Z = Z.reshape(xx.shape)\n",
    "    plt.subplot(1,2,1)\n",
    "    plt.contourf(xx, yy, Z, cmap='rainbow', alpha=0.8)\n",
    "    plt.scatter(X[:, 0], X[:, 1], c=y, cmap='rainbow')\n",
    "    plt.xlim(xx.min(), xx.max())\n",
    "    plt.ylim(yy.min(), yy.max())\n",
    "    plt.subplot(1,2,2)\n",
    "    plt.plot(loss)\n",
    "    ymin, ymax = plt.ylim()\n",
    "    plt.ylim(0, ymax)\n",
    "    display.clear_output(wait=True)\n",
    "    display.display(plt.gcf())\n",
    "    \n",
    "def viz_opt(func, gradf, hessf, X, y, n_iter=10):\n",
    "    a = None\n",
    "    loss1 = np.zeros(n_iter)\n",
    "    plt.figure(figsize=(12,5))\n",
    "    ind = np.arange(X.shape[0])\n",
    "    \n",
    "    w, d = np.zeros(X.shape[1]), np.zeros(X.shape[1])\n",
    "    \n",
    "    for i in range(n_iter):        \n",
    "        loss1[i] += func(w)\n",
    "        visualize(X, y, w, loss1, n_iter)\n",
    "        \n",
    "        fvalx, gradx, hessx = func(w), grad(w), hess(w)\n",
    "        d = spla.cg(hessx, -gradx)[0]\n",
    "        alpha = line_search_armijo(func, w, d, gradx, fvalx)[0]\n",
    "        w += alpha*d\n",
    "        \n",
    "    visualize(X, y, w, loss1, n_iter)\n",
    "    \n",
    "    q = plt.clf()\n",
    "    plt.show()"
   ]
  },
  {
   "cell_type": "code",
   "execution_count": null,
   "metadata": {
    "collapsed": true,
    "deletable": false,
    "editable": false,
    "nbgrader": {
     "checksum": "438b3e659b1ba5c604702a3ef772080a",
     "grade": false,
     "grade_id": "cell-17706d6b87c6c3da",
     "locked": true,
     "schema_version": 1,
     "solution": false
    }
   },
   "outputs": [],
   "source": [
    "from sklearn.datasets import make_moons, make_circles, make_classification\n",
    "\n",
    "X, y = make_classification(n_features=2, n_redundant=0, n_informative=2)\n",
    "X += np.random.random(X.shape)\n",
    "\n",
    "datasets = [make_moons(noise=0.1), make_circles(noise=0.1, factor=0.5), (X, y)]"
   ]
  },
  {
   "cell_type": "code",
   "execution_count": null,
   "metadata": {
    "collapsed": true,
    "deletable": false,
    "editable": false,
    "nbgrader": {
     "checksum": "c190020c801d9287520475750b412feb",
     "grade": false,
     "grade_id": "cell-4ef2f8b5919d35c9",
     "locked": true,
     "schema_version": 1,
     "solution": false
    }
   },
   "outputs": [],
   "source": [
    "from IPython import display\n",
    "\n",
    "def classify(X, w):\n",
    "    return np.sign(1.0 / (1.0 + np.exp(-X.dot(w))) - 0.5)\n",
    "\n",
    "func = lambda w: logistic(w, X, y)\n",
    "grad = lambda w: logistic_grad(w, X, y)\n",
    "hess = lambda w: logistic_hess(w, X, y)\n",
    "\n",
    "for X, y in datasets:\n",
    "    X, y = expand(X), -2*(y-0.5)\n",
    "    a = viz_opt(func, grad, hess, X, y) "
   ]
  }
 ],
 "metadata": {
  "kernelspec": {
   "display_name": "Python 3",
   "language": "python",
   "name": "python3"
  },
  "language_info": {
   "codemirror_mode": {
    "name": "ipython",
    "version": 3
   },
   "file_extension": ".py",
   "mimetype": "text/x-python",
   "name": "python",
   "nbconvert_exporter": "python",
   "pygments_lexer": "ipython3",
   "version": "3.5.2"
  }
 },
 "nbformat": 4,
 "nbformat_minor": 2
}
